{
 "cells": [
  {
   "cell_type": "markdown",
   "metadata": {},
   "source": [
    "# Payment Date Prediction"
   ]
  },
  {
   "cell_type": "markdown",
   "metadata": {},
   "source": [
    "Done By --> Jairam.S.J.A"
   ]
  },
  {
   "cell_type": "code",
   "execution_count": 1,
   "metadata": {},
   "outputs": [],
   "source": [
    "#Import all necessary libraries\n",
    "\n",
    "import pandas as pd\n",
    "import matplotlib.pyplot as plt\n",
    "import seaborn as sns\n",
    "import numpy as np\n",
    "\n",
    "import warnings\n",
    "warnings.filterwarnings(action=\"ignore\")\n",
    "\n",
    "from sklearn.preprocessing import LabelEncoder,OrdinalEncoder\n",
    "from sklearn.ensemble import RandomForestRegressor\n",
    "from sklearn.metrics import r2_score\n",
    "from sklearn.model_selection import train_test_split\n",
    "from sklearn import metrics"
   ]
  },
  {
   "cell_type": "code",
   "execution_count": 2,
   "metadata": {},
   "outputs": [],
   "source": [
    "df=pd.read_csv('H2HBABBA3161.csv')"
   ]
  },
  {
   "cell_type": "code",
   "execution_count": 3,
   "metadata": {},
   "outputs": [
    {
     "data": {
      "text/html": [
       "<div>\n",
       "<style scoped>\n",
       "    .dataframe tbody tr th:only-of-type {\n",
       "        vertical-align: middle;\n",
       "    }\n",
       "\n",
       "    .dataframe tbody tr th {\n",
       "        vertical-align: top;\n",
       "    }\n",
       "\n",
       "    .dataframe thead th {\n",
       "        text-align: right;\n",
       "    }\n",
       "</style>\n",
       "<table border=\"1\" class=\"dataframe\">\n",
       "  <thead>\n",
       "    <tr style=\"text-align: right;\">\n",
       "      <th></th>\n",
       "      <th>business_code</th>\n",
       "      <th>cust_number</th>\n",
       "      <th>name_customer</th>\n",
       "      <th>clear_date</th>\n",
       "      <th>buisness_year</th>\n",
       "      <th>doc_id</th>\n",
       "      <th>posting_date</th>\n",
       "      <th>document_create_date</th>\n",
       "      <th>document_create_date.1</th>\n",
       "      <th>due_in_date</th>\n",
       "      <th>invoice_currency</th>\n",
       "      <th>document type</th>\n",
       "      <th>posting_id</th>\n",
       "      <th>area_business</th>\n",
       "      <th>total_open_amount</th>\n",
       "      <th>baseline_create_date</th>\n",
       "      <th>cust_payment_terms</th>\n",
       "      <th>invoice_id</th>\n",
       "      <th>isOpen</th>\n",
       "    </tr>\n",
       "  </thead>\n",
       "  <tbody>\n",
       "    <tr>\n",
       "      <td>0</td>\n",
       "      <td>U001</td>\n",
       "      <td>0200744019</td>\n",
       "      <td>TARG trust</td>\n",
       "      <td>NaN</td>\n",
       "      <td>2020.0</td>\n",
       "      <td>1.930793e+09</td>\n",
       "      <td>2020-04-17</td>\n",
       "      <td>20200416</td>\n",
       "      <td>20200417</td>\n",
       "      <td>20200502.0</td>\n",
       "      <td>USD</td>\n",
       "      <td>RV</td>\n",
       "      <td>1.0</td>\n",
       "      <td>NaN</td>\n",
       "      <td>34836.09</td>\n",
       "      <td>20200417.0</td>\n",
       "      <td>NAA8</td>\n",
       "      <td>1.930793e+09</td>\n",
       "      <td>1</td>\n",
       "    </tr>\n",
       "    <tr>\n",
       "      <td>1</td>\n",
       "      <td>CA02</td>\n",
       "      <td>0140106293</td>\n",
       "      <td>ATLANT</td>\n",
       "      <td>2019-12-16 00:00:00</td>\n",
       "      <td>2019.0</td>\n",
       "      <td>2.960594e+09</td>\n",
       "      <td>2019-11-21</td>\n",
       "      <td>20191121</td>\n",
       "      <td>20191121</td>\n",
       "      <td>20191209.0</td>\n",
       "      <td>CAD</td>\n",
       "      <td>RV</td>\n",
       "      <td>1.0</td>\n",
       "      <td>NaN</td>\n",
       "      <td>84348.04</td>\n",
       "      <td>20191129.0</td>\n",
       "      <td>CA10</td>\n",
       "      <td>2.960594e+09</td>\n",
       "      <td>0</td>\n",
       "    </tr>\n",
       "    <tr>\n",
       "      <td>2</td>\n",
       "      <td>U001</td>\n",
       "      <td>200799367</td>\n",
       "      <td>MCL llc</td>\n",
       "      <td>2019-04-05 00:00:00</td>\n",
       "      <td>2019.0</td>\n",
       "      <td>1.928962e+09</td>\n",
       "      <td>2019-03-21</td>\n",
       "      <td>20190314</td>\n",
       "      <td>20190321</td>\n",
       "      <td>20190405.0</td>\n",
       "      <td>USD</td>\n",
       "      <td>RV</td>\n",
       "      <td>1.0</td>\n",
       "      <td>NaN</td>\n",
       "      <td>6153.23</td>\n",
       "      <td>20190321.0</td>\n",
       "      <td>NAA8</td>\n",
       "      <td>1.928962e+09</td>\n",
       "      <td>0</td>\n",
       "    </tr>\n",
       "    <tr>\n",
       "      <td>3</td>\n",
       "      <td>U001</td>\n",
       "      <td>0200794332</td>\n",
       "      <td>COST in</td>\n",
       "      <td>NaN</td>\n",
       "      <td>2020.0</td>\n",
       "      <td>1.930594e+09</td>\n",
       "      <td>2020-03-04</td>\n",
       "      <td>20200303</td>\n",
       "      <td>20200304</td>\n",
       "      <td>20200319.0</td>\n",
       "      <td>USD</td>\n",
       "      <td>RV</td>\n",
       "      <td>1.0</td>\n",
       "      <td>NaN</td>\n",
       "      <td>8793.09</td>\n",
       "      <td>20200304.0</td>\n",
       "      <td>NAAX</td>\n",
       "      <td>1.930594e+09</td>\n",
       "      <td>1</td>\n",
       "    </tr>\n",
       "    <tr>\n",
       "      <td>4</td>\n",
       "      <td>U001</td>\n",
       "      <td>0200881076</td>\n",
       "      <td>ALBERT foundation</td>\n",
       "      <td>2019-05-23 00:00:00</td>\n",
       "      <td>2019.0</td>\n",
       "      <td>1.929271e+09</td>\n",
       "      <td>2019-05-08</td>\n",
       "      <td>20190507</td>\n",
       "      <td>20190508</td>\n",
       "      <td>20190523.0</td>\n",
       "      <td>USD</td>\n",
       "      <td>RV</td>\n",
       "      <td>1.0</td>\n",
       "      <td>NaN</td>\n",
       "      <td>75415.34</td>\n",
       "      <td>20190508.0</td>\n",
       "      <td>NAA8</td>\n",
       "      <td>1.929271e+09</td>\n",
       "      <td>0</td>\n",
       "    </tr>\n",
       "  </tbody>\n",
       "</table>\n",
       "</div>"
      ],
      "text/plain": [
       "  business_code cust_number      name_customer           clear_date  \\\n",
       "0          U001  0200744019         TARG trust                  NaN   \n",
       "1          CA02  0140106293            ATLANT   2019-12-16 00:00:00   \n",
       "2          U001   200799367            MCL llc  2019-04-05 00:00:00   \n",
       "3          U001  0200794332            COST in                  NaN   \n",
       "4          U001  0200881076  ALBERT foundation  2019-05-23 00:00:00   \n",
       "\n",
       "   buisness_year        doc_id posting_date  document_create_date  \\\n",
       "0         2020.0  1.930793e+09   2020-04-17              20200416   \n",
       "1         2019.0  2.960594e+09   2019-11-21              20191121   \n",
       "2         2019.0  1.928962e+09   2019-03-21              20190314   \n",
       "3         2020.0  1.930594e+09   2020-03-04              20200303   \n",
       "4         2019.0  1.929271e+09   2019-05-08              20190507   \n",
       "\n",
       "   document_create_date.1  due_in_date invoice_currency document type  \\\n",
       "0                20200417   20200502.0              USD            RV   \n",
       "1                20191121   20191209.0              CAD            RV   \n",
       "2                20190321   20190405.0              USD            RV   \n",
       "3                20200304   20200319.0              USD            RV   \n",
       "4                20190508   20190523.0              USD            RV   \n",
       "\n",
       "   posting_id  area_business  total_open_amount  baseline_create_date  \\\n",
       "0         1.0            NaN           34836.09            20200417.0   \n",
       "1         1.0            NaN           84348.04            20191129.0   \n",
       "2         1.0            NaN            6153.23            20190321.0   \n",
       "3         1.0            NaN            8793.09            20200304.0   \n",
       "4         1.0            NaN           75415.34            20190508.0   \n",
       "\n",
       "  cust_payment_terms    invoice_id  isOpen  \n",
       "0               NAA8  1.930793e+09       1  \n",
       "1               CA10  2.960594e+09       0  \n",
       "2               NAA8  1.928962e+09       0  \n",
       "3               NAAX  1.930594e+09       1  \n",
       "4               NAA8  1.929271e+09       0  "
      ]
     },
     "execution_count": 3,
     "metadata": {},
     "output_type": "execute_result"
    }
   ],
   "source": [
    "#Displays first 5 rows in dataframe\n",
    "df.head()"
   ]
  },
  {
   "cell_type": "code",
   "execution_count": 4,
   "metadata": {},
   "outputs": [
    {
     "data": {
      "text/plain": [
       "(50000, 19)"
      ]
     },
     "execution_count": 4,
     "metadata": {},
     "output_type": "execute_result"
    }
   ],
   "source": [
    "#Dimensions of dataframe\n",
    "df.shape"
   ]
  },
  {
   "cell_type": "code",
   "execution_count": 5,
   "metadata": {},
   "outputs": [
    {
     "name": "stdout",
     "output_type": "stream",
     "text": [
      "<class 'pandas.core.frame.DataFrame'>\n",
      "RangeIndex: 50000 entries, 0 to 49999\n",
      "Data columns (total 19 columns):\n",
      "business_code             50000 non-null object\n",
      "cust_number               50000 non-null object\n",
      "name_customer             50000 non-null object\n",
      "clear_date                40000 non-null object\n",
      "buisness_year             50000 non-null float64\n",
      "doc_id                    50000 non-null float64\n",
      "posting_date              50000 non-null object\n",
      "document_create_date      50000 non-null int64\n",
      "document_create_date.1    50000 non-null int64\n",
      "due_in_date               50000 non-null float64\n",
      "invoice_currency          50000 non-null object\n",
      "document type             50000 non-null object\n",
      "posting_id                50000 non-null float64\n",
      "area_business             0 non-null float64\n",
      "total_open_amount         50000 non-null float64\n",
      "baseline_create_date      50000 non-null float64\n",
      "cust_payment_terms        50000 non-null object\n",
      "invoice_id                49996 non-null float64\n",
      "isOpen                    50000 non-null int64\n",
      "dtypes: float64(8), int64(3), object(8)\n",
      "memory usage: 7.2+ MB\n"
     ]
    }
   ],
   "source": [
    "df.info()"
   ]
  },
  {
   "cell_type": "code",
   "execution_count": 6,
   "metadata": {},
   "outputs": [
    {
     "data": {
      "text/plain": [
       "business_code                 6\n",
       "cust_number                1399\n",
       "name_customer              4116\n",
       "clear_date                  400\n",
       "buisness_year                 2\n",
       "doc_id                    48803\n",
       "posting_date                502\n",
       "document_create_date        504\n",
       "document_create_date.1      502\n",
       "due_in_date                 542\n",
       "invoice_currency              2\n",
       "document type                 2\n",
       "posting_id                    1\n",
       "area_business                 0\n",
       "total_open_amount         44345\n",
       "baseline_create_date        503\n",
       "cust_payment_terms           73\n",
       "invoice_id                48799\n",
       "isOpen                        2\n",
       "dtype: int64"
      ]
     },
     "execution_count": 6,
     "metadata": {},
     "output_type": "execute_result"
    }
   ],
   "source": [
    "#Displays no. of unique items in each column\n",
    "df.nunique()"
   ]
  },
  {
   "cell_type": "code",
   "execution_count": 7,
   "metadata": {},
   "outputs": [],
   "source": [
    "#All the items are null values, so remove it\n",
    "df.drop('area_business', axis=1, inplace=True)"
   ]
  },
  {
   "cell_type": "code",
   "execution_count": 8,
   "metadata": {},
   "outputs": [],
   "source": [
    "#It is a constant column with a single value, so it's of no use\n",
    "df.drop('posting_id', axis=1, inplace=True)"
   ]
  },
  {
   "cell_type": "code",
   "execution_count": 9,
   "metadata": {},
   "outputs": [],
   "source": [
    "#Drop either of 'document_create_date' or 'document_create_date.1'\n",
    "df.drop('document_create_date.1', axis=1, inplace=True)"
   ]
  },
  {
   "cell_type": "code",
   "execution_count": 10,
   "metadata": {},
   "outputs": [
    {
     "data": {
      "text/html": [
       "<div>\n",
       "<style scoped>\n",
       "    .dataframe tbody tr th:only-of-type {\n",
       "        vertical-align: middle;\n",
       "    }\n",
       "\n",
       "    .dataframe tbody tr th {\n",
       "        vertical-align: top;\n",
       "    }\n",
       "\n",
       "    .dataframe thead th {\n",
       "        text-align: right;\n",
       "    }\n",
       "</style>\n",
       "<table border=\"1\" class=\"dataframe\">\n",
       "  <thead>\n",
       "    <tr style=\"text-align: right;\">\n",
       "      <th></th>\n",
       "      <th>business_code</th>\n",
       "      <th>cust_number</th>\n",
       "      <th>name_customer</th>\n",
       "      <th>clear_date</th>\n",
       "      <th>buisness_year</th>\n",
       "      <th>doc_id</th>\n",
       "      <th>posting_date</th>\n",
       "      <th>document_create_date</th>\n",
       "      <th>due_in_date</th>\n",
       "      <th>invoice_currency</th>\n",
       "      <th>document type</th>\n",
       "      <th>total_open_amount</th>\n",
       "      <th>baseline_create_date</th>\n",
       "      <th>cust_payment_terms</th>\n",
       "      <th>invoice_id</th>\n",
       "      <th>isOpen</th>\n",
       "    </tr>\n",
       "  </thead>\n",
       "  <tbody>\n",
       "    <tr>\n",
       "      <td>1538</td>\n",
       "      <td>U001</td>\n",
       "      <td>0200799367</td>\n",
       "      <td>MCL in</td>\n",
       "      <td>NaN</td>\n",
       "      <td>2020.0</td>\n",
       "      <td>1.930721e+09</td>\n",
       "      <td>2020-03-31</td>\n",
       "      <td>20200330</td>\n",
       "      <td>20200415.0</td>\n",
       "      <td>USD</td>\n",
       "      <td>RV</td>\n",
       "      <td>124605.44</td>\n",
       "      <td>20200331.0</td>\n",
       "      <td>NAA8</td>\n",
       "      <td>1.930721e+09</td>\n",
       "      <td>1</td>\n",
       "    </tr>\n",
       "    <tr>\n",
       "      <td>1799</td>\n",
       "      <td>U001</td>\n",
       "      <td>0200769623</td>\n",
       "      <td>WAL-MAR in</td>\n",
       "      <td>2019-07-19 00:00:00</td>\n",
       "      <td>2019.0</td>\n",
       "      <td>1.929581e+09</td>\n",
       "      <td>2019-07-08</td>\n",
       "      <td>20190706</td>\n",
       "      <td>20190723.0</td>\n",
       "      <td>USD</td>\n",
       "      <td>RV</td>\n",
       "      <td>12823.01</td>\n",
       "      <td>20190708.0</td>\n",
       "      <td>NAH4</td>\n",
       "      <td>1.929581e+09</td>\n",
       "      <td>0</td>\n",
       "    </tr>\n",
       "    <tr>\n",
       "      <td>1966</td>\n",
       "      <td>U001</td>\n",
       "      <td>0200974851</td>\n",
       "      <td>RESTA associates</td>\n",
       "      <td>2019-02-13 00:00:00</td>\n",
       "      <td>2019.0</td>\n",
       "      <td>1.928679e+09</td>\n",
       "      <td>2019-01-24</td>\n",
       "      <td>20190124</td>\n",
       "      <td>20190213.0</td>\n",
       "      <td>USD</td>\n",
       "      <td>RV</td>\n",
       "      <td>240.81</td>\n",
       "      <td>20190124.0</td>\n",
       "      <td>NAD1</td>\n",
       "      <td>1.928679e+09</td>\n",
       "      <td>0</td>\n",
       "    </tr>\n",
       "    <tr>\n",
       "      <td>1969</td>\n",
       "      <td>CA02</td>\n",
       "      <td>0140104409</td>\n",
       "      <td>LOB corp</td>\n",
       "      <td>2019-05-14 00:00:00</td>\n",
       "      <td>2019.0</td>\n",
       "      <td>2.960544e+09</td>\n",
       "      <td>2019-05-07</td>\n",
       "      <td>20190507</td>\n",
       "      <td>20190517.0</td>\n",
       "      <td>CAD</td>\n",
       "      <td>RV</td>\n",
       "      <td>21.18</td>\n",
       "      <td>20190507.0</td>\n",
       "      <td>CAX2</td>\n",
       "      <td>2.960544e+09</td>\n",
       "      <td>0</td>\n",
       "    </tr>\n",
       "    <tr>\n",
       "      <td>2088</td>\n",
       "      <td>U001</td>\n",
       "      <td>0200769623</td>\n",
       "      <td>WAL-MAR corp</td>\n",
       "      <td>NaN</td>\n",
       "      <td>2020.0</td>\n",
       "      <td>1.930651e+09</td>\n",
       "      <td>2020-03-14</td>\n",
       "      <td>20200314</td>\n",
       "      <td>20200329.0</td>\n",
       "      <td>USD</td>\n",
       "      <td>RV</td>\n",
       "      <td>19597.80</td>\n",
       "      <td>20200314.0</td>\n",
       "      <td>NAH4</td>\n",
       "      <td>1.930651e+09</td>\n",
       "      <td>1</td>\n",
       "    </tr>\n",
       "    <tr>\n",
       "      <td>...</td>\n",
       "      <td>...</td>\n",
       "      <td>...</td>\n",
       "      <td>...</td>\n",
       "      <td>...</td>\n",
       "      <td>...</td>\n",
       "      <td>...</td>\n",
       "      <td>...</td>\n",
       "      <td>...</td>\n",
       "      <td>...</td>\n",
       "      <td>...</td>\n",
       "      <td>...</td>\n",
       "      <td>...</td>\n",
       "      <td>...</td>\n",
       "      <td>...</td>\n",
       "      <td>...</td>\n",
       "      <td>...</td>\n",
       "    </tr>\n",
       "    <tr>\n",
       "      <td>49921</td>\n",
       "      <td>U001</td>\n",
       "      <td>0200735528</td>\n",
       "      <td>ASSOCIA</td>\n",
       "      <td>2019-09-23 00:00:00</td>\n",
       "      <td>2019.0</td>\n",
       "      <td>1.929830e+09</td>\n",
       "      <td>2019-09-06</td>\n",
       "      <td>20190905</td>\n",
       "      <td>20190921.0</td>\n",
       "      <td>USD</td>\n",
       "      <td>RV</td>\n",
       "      <td>123028.51</td>\n",
       "      <td>20190906.0</td>\n",
       "      <td>NAA8</td>\n",
       "      <td>1.929830e+09</td>\n",
       "      <td>0</td>\n",
       "    </tr>\n",
       "    <tr>\n",
       "      <td>49934</td>\n",
       "      <td>U001</td>\n",
       "      <td>0100031704</td>\n",
       "      <td>DELHAIZE in</td>\n",
       "      <td>2019-04-29 00:00:00</td>\n",
       "      <td>2019.0</td>\n",
       "      <td>1.929133e+09</td>\n",
       "      <td>2019-04-12</td>\n",
       "      <td>20190411</td>\n",
       "      <td>20190427.0</td>\n",
       "      <td>USD</td>\n",
       "      <td>RV</td>\n",
       "      <td>110674.25</td>\n",
       "      <td>20190412.0</td>\n",
       "      <td>NAA8</td>\n",
       "      <td>1.929133e+09</td>\n",
       "      <td>0</td>\n",
       "    </tr>\n",
       "    <tr>\n",
       "      <td>49947</td>\n",
       "      <td>U001</td>\n",
       "      <td>0200762301</td>\n",
       "      <td>C&amp;S WH foundation</td>\n",
       "      <td>2019-11-15 00:00:00</td>\n",
       "      <td>2019.0</td>\n",
       "      <td>1.930077e+09</td>\n",
       "      <td>2019-10-31</td>\n",
       "      <td>20191031</td>\n",
       "      <td>20191115.0</td>\n",
       "      <td>USD</td>\n",
       "      <td>RV</td>\n",
       "      <td>128617.82</td>\n",
       "      <td>20191031.0</td>\n",
       "      <td>NAC6</td>\n",
       "      <td>1.930077e+09</td>\n",
       "      <td>0</td>\n",
       "    </tr>\n",
       "    <tr>\n",
       "      <td>49955</td>\n",
       "      <td>U001</td>\n",
       "      <td>0200769623</td>\n",
       "      <td>WAL-MAR</td>\n",
       "      <td>2019-11-27 00:00:00</td>\n",
       "      <td>2019.0</td>\n",
       "      <td>1.930158e+09</td>\n",
       "      <td>2019-11-15</td>\n",
       "      <td>20191115</td>\n",
       "      <td>20191130.0</td>\n",
       "      <td>USD</td>\n",
       "      <td>RV</td>\n",
       "      <td>46814.61</td>\n",
       "      <td>20191115.0</td>\n",
       "      <td>NAH4</td>\n",
       "      <td>1.930158e+09</td>\n",
       "      <td>0</td>\n",
       "    </tr>\n",
       "    <tr>\n",
       "      <td>49979</td>\n",
       "      <td>U001</td>\n",
       "      <td>0200769623</td>\n",
       "      <td>WAL-MAR llc</td>\n",
       "      <td>NaN</td>\n",
       "      <td>2020.0</td>\n",
       "      <td>1.930704e+09</td>\n",
       "      <td>2020-03-25</td>\n",
       "      <td>20200325</td>\n",
       "      <td>20200409.0</td>\n",
       "      <td>USD</td>\n",
       "      <td>RV</td>\n",
       "      <td>3786.18</td>\n",
       "      <td>20200325.0</td>\n",
       "      <td>NAH4</td>\n",
       "      <td>1.930704e+09</td>\n",
       "      <td>1</td>\n",
       "    </tr>\n",
       "  </tbody>\n",
       "</table>\n",
       "<p>1197 rows × 16 columns</p>\n",
       "</div>"
      ],
      "text/plain": [
       "      business_code cust_number      name_customer           clear_date  \\\n",
       "1538           U001  0200799367             MCL in                  NaN   \n",
       "1799           U001  0200769623         WAL-MAR in  2019-07-19 00:00:00   \n",
       "1966           U001  0200974851   RESTA associates  2019-02-13 00:00:00   \n",
       "1969           CA02  0140104409           LOB corp  2019-05-14 00:00:00   \n",
       "2088           U001  0200769623       WAL-MAR corp                  NaN   \n",
       "...             ...         ...                ...                  ...   \n",
       "49921          U001  0200735528           ASSOCIA   2019-09-23 00:00:00   \n",
       "49934          U001  0100031704        DELHAIZE in  2019-04-29 00:00:00   \n",
       "49947          U001  0200762301  C&S WH foundation  2019-11-15 00:00:00   \n",
       "49955          U001  0200769623           WAL-MAR   2019-11-27 00:00:00   \n",
       "49979          U001  0200769623        WAL-MAR llc                  NaN   \n",
       "\n",
       "       buisness_year        doc_id posting_date  document_create_date  \\\n",
       "1538          2020.0  1.930721e+09   2020-03-31              20200330   \n",
       "1799          2019.0  1.929581e+09   2019-07-08              20190706   \n",
       "1966          2019.0  1.928679e+09   2019-01-24              20190124   \n",
       "1969          2019.0  2.960544e+09   2019-05-07              20190507   \n",
       "2088          2020.0  1.930651e+09   2020-03-14              20200314   \n",
       "...              ...           ...          ...                   ...   \n",
       "49921         2019.0  1.929830e+09   2019-09-06              20190905   \n",
       "49934         2019.0  1.929133e+09   2019-04-12              20190411   \n",
       "49947         2019.0  1.930077e+09   2019-10-31              20191031   \n",
       "49955         2019.0  1.930158e+09   2019-11-15              20191115   \n",
       "49979         2020.0  1.930704e+09   2020-03-25              20200325   \n",
       "\n",
       "       due_in_date invoice_currency document type  total_open_amount  \\\n",
       "1538    20200415.0              USD            RV          124605.44   \n",
       "1799    20190723.0              USD            RV           12823.01   \n",
       "1966    20190213.0              USD            RV             240.81   \n",
       "1969    20190517.0              CAD            RV              21.18   \n",
       "2088    20200329.0              USD            RV           19597.80   \n",
       "...            ...              ...           ...                ...   \n",
       "49921   20190921.0              USD            RV          123028.51   \n",
       "49934   20190427.0              USD            RV          110674.25   \n",
       "49947   20191115.0              USD            RV          128617.82   \n",
       "49955   20191130.0              USD            RV           46814.61   \n",
       "49979   20200409.0              USD            RV            3786.18   \n",
       "\n",
       "       baseline_create_date cust_payment_terms    invoice_id  isOpen  \n",
       "1538             20200331.0               NAA8  1.930721e+09       1  \n",
       "1799             20190708.0               NAH4  1.929581e+09       0  \n",
       "1966             20190124.0               NAD1  1.928679e+09       0  \n",
       "1969             20190507.0               CAX2  2.960544e+09       0  \n",
       "2088             20200314.0               NAH4  1.930651e+09       1  \n",
       "...                     ...                ...           ...     ...  \n",
       "49921            20190906.0               NAA8  1.929830e+09       0  \n",
       "49934            20190412.0               NAA8  1.929133e+09       0  \n",
       "49947            20191031.0               NAC6  1.930077e+09       0  \n",
       "49955            20191115.0               NAH4  1.930158e+09       0  \n",
       "49979            20200325.0               NAH4  1.930704e+09       1  \n",
       "\n",
       "[1197 rows x 16 columns]"
      ]
     },
     "execution_count": 10,
     "metadata": {},
     "output_type": "execute_result"
    }
   ],
   "source": [
    "#Check for duplicated rows\n",
    "df[df.duplicated()]"
   ]
  },
  {
   "cell_type": "code",
   "execution_count": 11,
   "metadata": {},
   "outputs": [],
   "source": [
    "#Drop the duplicated rows\n",
    "df.drop_duplicates(inplace = True)"
   ]
  },
  {
   "cell_type": "code",
   "execution_count": 12,
   "metadata": {},
   "outputs": [
    {
     "data": {
      "text/html": [
       "<div>\n",
       "<style scoped>\n",
       "    .dataframe tbody tr th:only-of-type {\n",
       "        vertical-align: middle;\n",
       "    }\n",
       "\n",
       "    .dataframe tbody tr th {\n",
       "        vertical-align: top;\n",
       "    }\n",
       "\n",
       "    .dataframe thead th {\n",
       "        text-align: right;\n",
       "    }\n",
       "</style>\n",
       "<table border=\"1\" class=\"dataframe\">\n",
       "  <thead>\n",
       "    <tr style=\"text-align: right;\">\n",
       "      <th></th>\n",
       "      <th>business_code</th>\n",
       "      <th>cust_number</th>\n",
       "      <th>name_customer</th>\n",
       "      <th>clear_date</th>\n",
       "      <th>buisness_year</th>\n",
       "      <th>doc_id</th>\n",
       "      <th>posting_date</th>\n",
       "      <th>document_create_date</th>\n",
       "      <th>due_in_date</th>\n",
       "      <th>invoice_currency</th>\n",
       "      <th>document type</th>\n",
       "      <th>total_open_amount</th>\n",
       "      <th>baseline_create_date</th>\n",
       "      <th>cust_payment_terms</th>\n",
       "      <th>invoice_id</th>\n",
       "      <th>isOpen</th>\n",
       "    </tr>\n",
       "  </thead>\n",
       "  <tbody>\n",
       "    <tr>\n",
       "      <td>0</td>\n",
       "      <td>U001</td>\n",
       "      <td>0200744019</td>\n",
       "      <td>TARG trust</td>\n",
       "      <td>NaN</td>\n",
       "      <td>2020.0</td>\n",
       "      <td>1.930793e+09</td>\n",
       "      <td>2020-04-17</td>\n",
       "      <td>20200416</td>\n",
       "      <td>20200502.0</td>\n",
       "      <td>USD</td>\n",
       "      <td>RV</td>\n",
       "      <td>34836.09</td>\n",
       "      <td>20200417.0</td>\n",
       "      <td>NAA8</td>\n",
       "      <td>1.930793e+09</td>\n",
       "      <td>1</td>\n",
       "    </tr>\n",
       "    <tr>\n",
       "      <td>1</td>\n",
       "      <td>CA02</td>\n",
       "      <td>0140106293</td>\n",
       "      <td>ATLANT</td>\n",
       "      <td>2019-12-16 00:00:00</td>\n",
       "      <td>2019.0</td>\n",
       "      <td>2.960594e+09</td>\n",
       "      <td>2019-11-21</td>\n",
       "      <td>20191121</td>\n",
       "      <td>20191209.0</td>\n",
       "      <td>CAD</td>\n",
       "      <td>RV</td>\n",
       "      <td>84348.04</td>\n",
       "      <td>20191129.0</td>\n",
       "      <td>CA10</td>\n",
       "      <td>2.960594e+09</td>\n",
       "      <td>0</td>\n",
       "    </tr>\n",
       "    <tr>\n",
       "      <td>2</td>\n",
       "      <td>U001</td>\n",
       "      <td>200799367</td>\n",
       "      <td>MCL llc</td>\n",
       "      <td>2019-04-05 00:00:00</td>\n",
       "      <td>2019.0</td>\n",
       "      <td>1.928962e+09</td>\n",
       "      <td>2019-03-21</td>\n",
       "      <td>20190314</td>\n",
       "      <td>20190405.0</td>\n",
       "      <td>USD</td>\n",
       "      <td>RV</td>\n",
       "      <td>6153.23</td>\n",
       "      <td>20190321.0</td>\n",
       "      <td>NAA8</td>\n",
       "      <td>1.928962e+09</td>\n",
       "      <td>0</td>\n",
       "    </tr>\n",
       "    <tr>\n",
       "      <td>3</td>\n",
       "      <td>U001</td>\n",
       "      <td>0200794332</td>\n",
       "      <td>COST in</td>\n",
       "      <td>NaN</td>\n",
       "      <td>2020.0</td>\n",
       "      <td>1.930594e+09</td>\n",
       "      <td>2020-03-04</td>\n",
       "      <td>20200303</td>\n",
       "      <td>20200319.0</td>\n",
       "      <td>USD</td>\n",
       "      <td>RV</td>\n",
       "      <td>8793.09</td>\n",
       "      <td>20200304.0</td>\n",
       "      <td>NAAX</td>\n",
       "      <td>1.930594e+09</td>\n",
       "      <td>1</td>\n",
       "    </tr>\n",
       "    <tr>\n",
       "      <td>4</td>\n",
       "      <td>U001</td>\n",
       "      <td>0200881076</td>\n",
       "      <td>ALBERT foundation</td>\n",
       "      <td>2019-05-23 00:00:00</td>\n",
       "      <td>2019.0</td>\n",
       "      <td>1.929271e+09</td>\n",
       "      <td>2019-05-08</td>\n",
       "      <td>20190507</td>\n",
       "      <td>20190523.0</td>\n",
       "      <td>USD</td>\n",
       "      <td>RV</td>\n",
       "      <td>75415.34</td>\n",
       "      <td>20190508.0</td>\n",
       "      <td>NAA8</td>\n",
       "      <td>1.929271e+09</td>\n",
       "      <td>0</td>\n",
       "    </tr>\n",
       "    <tr>\n",
       "      <td>...</td>\n",
       "      <td>...</td>\n",
       "      <td>...</td>\n",
       "      <td>...</td>\n",
       "      <td>...</td>\n",
       "      <td>...</td>\n",
       "      <td>...</td>\n",
       "      <td>...</td>\n",
       "      <td>...</td>\n",
       "      <td>...</td>\n",
       "      <td>...</td>\n",
       "      <td>...</td>\n",
       "      <td>...</td>\n",
       "      <td>...</td>\n",
       "      <td>...</td>\n",
       "      <td>...</td>\n",
       "      <td>...</td>\n",
       "    </tr>\n",
       "    <tr>\n",
       "      <td>49995</td>\n",
       "      <td>U001</td>\n",
       "      <td>0200020431</td>\n",
       "      <td>DEC associates</td>\n",
       "      <td>2019-05-16 00:00:00</td>\n",
       "      <td>2019.0</td>\n",
       "      <td>1.929279e+09</td>\n",
       "      <td>2019-05-08</td>\n",
       "      <td>20190508</td>\n",
       "      <td>20190524.0</td>\n",
       "      <td>USD</td>\n",
       "      <td>RV</td>\n",
       "      <td>139.32</td>\n",
       "      <td>20190501.0</td>\n",
       "      <td>NAM4</td>\n",
       "      <td>1.929279e+09</td>\n",
       "      <td>0</td>\n",
       "    </tr>\n",
       "    <tr>\n",
       "      <td>49996</td>\n",
       "      <td>U001</td>\n",
       "      <td>0200769623</td>\n",
       "      <td>WAL-MAR systems</td>\n",
       "      <td>2019-12-24 00:00:00</td>\n",
       "      <td>2019.0</td>\n",
       "      <td>1.930278e+09</td>\n",
       "      <td>2019-12-13</td>\n",
       "      <td>20191213</td>\n",
       "      <td>20191228.0</td>\n",
       "      <td>USD</td>\n",
       "      <td>RV</td>\n",
       "      <td>32950.51</td>\n",
       "      <td>20191213.0</td>\n",
       "      <td>NAH4</td>\n",
       "      <td>1.930278e+09</td>\n",
       "      <td>0</td>\n",
       "    </tr>\n",
       "    <tr>\n",
       "      <td>49997</td>\n",
       "      <td>U001</td>\n",
       "      <td>0200759878</td>\n",
       "      <td>SA co</td>\n",
       "      <td>2019-10-25 00:00:00</td>\n",
       "      <td>2019.0</td>\n",
       "      <td>1.929995e+09</td>\n",
       "      <td>2019-10-10</td>\n",
       "      <td>20191010</td>\n",
       "      <td>20191025.0</td>\n",
       "      <td>USD</td>\n",
       "      <td>RV</td>\n",
       "      <td>26018.59</td>\n",
       "      <td>20191010.0</td>\n",
       "      <td>NAH4</td>\n",
       "      <td>1.929995e+09</td>\n",
       "      <td>0</td>\n",
       "    </tr>\n",
       "    <tr>\n",
       "      <td>49998</td>\n",
       "      <td>CA02</td>\n",
       "      <td>0140104392</td>\n",
       "      <td>FLANAG llc</td>\n",
       "      <td>NaN</td>\n",
       "      <td>2020.0</td>\n",
       "      <td>2.960619e+09</td>\n",
       "      <td>2020-03-06</td>\n",
       "      <td>20200306</td>\n",
       "      <td>20200320.0</td>\n",
       "      <td>CAD</td>\n",
       "      <td>RV</td>\n",
       "      <td>14869.54</td>\n",
       "      <td>20200310.0</td>\n",
       "      <td>CA10</td>\n",
       "      <td>2.960619e+09</td>\n",
       "      <td>1</td>\n",
       "    </tr>\n",
       "    <tr>\n",
       "      <td>49999</td>\n",
       "      <td>U001</td>\n",
       "      <td>0200726979</td>\n",
       "      <td>BJ'S  us</td>\n",
       "      <td>2019-11-14 00:00:00</td>\n",
       "      <td>2019.0</td>\n",
       "      <td>1.930058e+09</td>\n",
       "      <td>2019-10-29</td>\n",
       "      <td>20191028</td>\n",
       "      <td>20191113.0</td>\n",
       "      <td>USD</td>\n",
       "      <td>RV</td>\n",
       "      <td>450.80</td>\n",
       "      <td>20191029.0</td>\n",
       "      <td>NAA8</td>\n",
       "      <td>1.930058e+09</td>\n",
       "      <td>0</td>\n",
       "    </tr>\n",
       "  </tbody>\n",
       "</table>\n",
       "<p>48803 rows × 16 columns</p>\n",
       "</div>"
      ],
      "text/plain": [
       "      business_code cust_number      name_customer           clear_date  \\\n",
       "0              U001  0200744019         TARG trust                  NaN   \n",
       "1              CA02  0140106293            ATLANT   2019-12-16 00:00:00   \n",
       "2              U001   200799367            MCL llc  2019-04-05 00:00:00   \n",
       "3              U001  0200794332            COST in                  NaN   \n",
       "4              U001  0200881076  ALBERT foundation  2019-05-23 00:00:00   \n",
       "...             ...         ...                ...                  ...   \n",
       "49995          U001  0200020431     DEC associates  2019-05-16 00:00:00   \n",
       "49996          U001  0200769623    WAL-MAR systems  2019-12-24 00:00:00   \n",
       "49997          U001  0200759878              SA co  2019-10-25 00:00:00   \n",
       "49998          CA02  0140104392         FLANAG llc                  NaN   \n",
       "49999          U001  0200726979           BJ'S  us  2019-11-14 00:00:00   \n",
       "\n",
       "       buisness_year        doc_id posting_date  document_create_date  \\\n",
       "0             2020.0  1.930793e+09   2020-04-17              20200416   \n",
       "1             2019.0  2.960594e+09   2019-11-21              20191121   \n",
       "2             2019.0  1.928962e+09   2019-03-21              20190314   \n",
       "3             2020.0  1.930594e+09   2020-03-04              20200303   \n",
       "4             2019.0  1.929271e+09   2019-05-08              20190507   \n",
       "...              ...           ...          ...                   ...   \n",
       "49995         2019.0  1.929279e+09   2019-05-08              20190508   \n",
       "49996         2019.0  1.930278e+09   2019-12-13              20191213   \n",
       "49997         2019.0  1.929995e+09   2019-10-10              20191010   \n",
       "49998         2020.0  2.960619e+09   2020-03-06              20200306   \n",
       "49999         2019.0  1.930058e+09   2019-10-29              20191028   \n",
       "\n",
       "       due_in_date invoice_currency document type  total_open_amount  \\\n",
       "0       20200502.0              USD            RV           34836.09   \n",
       "1       20191209.0              CAD            RV           84348.04   \n",
       "2       20190405.0              USD            RV            6153.23   \n",
       "3       20200319.0              USD            RV            8793.09   \n",
       "4       20190523.0              USD            RV           75415.34   \n",
       "...            ...              ...           ...                ...   \n",
       "49995   20190524.0              USD            RV             139.32   \n",
       "49996   20191228.0              USD            RV           32950.51   \n",
       "49997   20191025.0              USD            RV           26018.59   \n",
       "49998   20200320.0              CAD            RV           14869.54   \n",
       "49999   20191113.0              USD            RV             450.80   \n",
       "\n",
       "       baseline_create_date cust_payment_terms    invoice_id  isOpen  \n",
       "0                20200417.0               NAA8  1.930793e+09       1  \n",
       "1                20191129.0               CA10  2.960594e+09       0  \n",
       "2                20190321.0               NAA8  1.928962e+09       0  \n",
       "3                20200304.0               NAAX  1.930594e+09       1  \n",
       "4                20190508.0               NAA8  1.929271e+09       0  \n",
       "...                     ...                ...           ...     ...  \n",
       "49995            20190501.0               NAM4  1.929279e+09       0  \n",
       "49996            20191213.0               NAH4  1.930278e+09       0  \n",
       "49997            20191010.0               NAH4  1.929995e+09       0  \n",
       "49998            20200310.0               CA10  2.960619e+09       1  \n",
       "49999            20191029.0               NAA8  1.930058e+09       0  \n",
       "\n",
       "[48803 rows x 16 columns]"
      ]
     },
     "execution_count": 12,
     "metadata": {},
     "output_type": "execute_result"
    }
   ],
   "source": [
    "df"
   ]
  },
  {
   "cell_type": "code",
   "execution_count": 13,
   "metadata": {},
   "outputs": [
    {
     "data": {
      "text/plain": [
       "business_code              0\n",
       "cust_number                0\n",
       "name_customer              0\n",
       "clear_date              9703\n",
       "buisness_year              0\n",
       "doc_id                     0\n",
       "posting_date               0\n",
       "document_create_date       0\n",
       "due_in_date                0\n",
       "invoice_currency           0\n",
       "document type              0\n",
       "total_open_amount          0\n",
       "baseline_create_date       0\n",
       "cust_payment_terms         0\n",
       "invoice_id                 4\n",
       "isOpen                     0\n",
       "dtype: int64"
      ]
     },
     "execution_count": 13,
     "metadata": {},
     "output_type": "execute_result"
    }
   ],
   "source": [
    "#Check for null values in dataframe\n",
    "df.isnull().sum()"
   ]
  },
  {
   "cell_type": "markdown",
   "metadata": {},
   "source": [
    "## Date conversion"
   ]
  },
  {
   "cell_type": "code",
   "execution_count": 14,
   "metadata": {},
   "outputs": [],
   "source": [
    "df['clear_date']=pd.to_datetime(df['clear_date'])"
   ]
  },
  {
   "cell_type": "code",
   "execution_count": 15,
   "metadata": {},
   "outputs": [],
   "source": [
    "df['buisness_year']=pd.to_datetime(df['buisness_year'],format=\"%Y\")\n",
    "df['buisness_year']=df.buisness_year.dt.year"
   ]
  },
  {
   "cell_type": "code",
   "execution_count": 16,
   "metadata": {},
   "outputs": [],
   "source": [
    "df['posting_date']=pd.to_datetime(df['posting_date'])"
   ]
  },
  {
   "cell_type": "code",
   "execution_count": 17,
   "metadata": {},
   "outputs": [],
   "source": [
    "df['document_create_date']=pd.to_datetime(df['document_create_date'],format=\"%Y%m%d\")"
   ]
  },
  {
   "cell_type": "code",
   "execution_count": 18,
   "metadata": {},
   "outputs": [],
   "source": [
    "df['due_in_date']=pd.to_datetime(df['due_in_date'],format=\"%Y%m%d\")"
   ]
  },
  {
   "cell_type": "code",
   "execution_count": 19,
   "metadata": {},
   "outputs": [],
   "source": [
    "df['baseline_create_date']=pd.to_datetime(df['baseline_create_date'],format=\"%Y%m%d\")"
   ]
  },
  {
   "cell_type": "code",
   "execution_count": 20,
   "metadata": {},
   "outputs": [
    {
     "name": "stdout",
     "output_type": "stream",
     "text": [
      "<class 'pandas.core.frame.DataFrame'>\n",
      "Int64Index: 48803 entries, 0 to 49999\n",
      "Data columns (total 16 columns):\n",
      "business_code           48803 non-null object\n",
      "cust_number             48803 non-null object\n",
      "name_customer           48803 non-null object\n",
      "clear_date              39100 non-null datetime64[ns]\n",
      "buisness_year           48803 non-null int64\n",
      "doc_id                  48803 non-null float64\n",
      "posting_date            48803 non-null datetime64[ns]\n",
      "document_create_date    48803 non-null datetime64[ns]\n",
      "due_in_date             48803 non-null datetime64[ns]\n",
      "invoice_currency        48803 non-null object\n",
      "document type           48803 non-null object\n",
      "total_open_amount       48803 non-null float64\n",
      "baseline_create_date    48803 non-null datetime64[ns]\n",
      "cust_payment_terms      48803 non-null object\n",
      "invoice_id              48799 non-null float64\n",
      "isOpen                  48803 non-null int64\n",
      "dtypes: datetime64[ns](5), float64(3), int64(2), object(6)\n",
      "memory usage: 6.3+ MB\n"
     ]
    }
   ],
   "source": [
    "df.info()"
   ]
  },
  {
   "cell_type": "markdown",
   "metadata": {},
   "source": [
    "### Removing anomalies"
   ]
  },
  {
   "cell_type": "code",
   "execution_count": 21,
   "metadata": {},
   "outputs": [
    {
     "data": {
      "text/plain": [
       "(4, 16)"
      ]
     },
     "execution_count": 21,
     "metadata": {},
     "output_type": "execute_result"
    }
   ],
   "source": [
    "# The 'clear_date' should always be greater than the date \n",
    "# on which the invoice was created, or else, it won't make sense...\n",
    "df[df['clear_date']<df['baseline_create_date']].shape"
   ]
  },
  {
   "cell_type": "code",
   "execution_count": 22,
   "metadata": {},
   "outputs": [],
   "source": [
    "df.drop(df[df['clear_date']<df['baseline_create_date']].index,index=None,inplace=True)"
   ]
  },
  {
   "cell_type": "code",
   "execution_count": 23,
   "metadata": {},
   "outputs": [
    {
     "name": "stdout",
     "output_type": "stream",
     "text": [
      "<class 'pandas.core.frame.DataFrame'>\n",
      "Int64Index: 48799 entries, 0 to 49999\n",
      "Data columns (total 16 columns):\n",
      "business_code           48799 non-null object\n",
      "cust_number             48799 non-null object\n",
      "name_customer           48799 non-null object\n",
      "clear_date              39096 non-null datetime64[ns]\n",
      "buisness_year           48799 non-null int64\n",
      "doc_id                  48799 non-null float64\n",
      "posting_date            48799 non-null datetime64[ns]\n",
      "document_create_date    48799 non-null datetime64[ns]\n",
      "due_in_date             48799 non-null datetime64[ns]\n",
      "invoice_currency        48799 non-null object\n",
      "document type           48799 non-null object\n",
      "total_open_amount       48799 non-null float64\n",
      "baseline_create_date    48799 non-null datetime64[ns]\n",
      "cust_payment_terms      48799 non-null object\n",
      "invoice_id              48795 non-null float64\n",
      "isOpen                  48799 non-null int64\n",
      "dtypes: datetime64[ns](5), float64(3), int64(2), object(6)\n",
      "memory usage: 6.3+ MB\n"
     ]
    }
   ],
   "source": [
    "df.info()"
   ]
  },
  {
   "cell_type": "code",
   "execution_count": 24,
   "metadata": {},
   "outputs": [],
   "source": [
    "df.drop('document type', axis=1, inplace=True)"
   ]
  },
  {
   "cell_type": "code",
   "execution_count": 25,
   "metadata": {},
   "outputs": [
    {
     "data": {
      "text/plain": [
       "4115"
      ]
     },
     "execution_count": 25,
     "metadata": {},
     "output_type": "execute_result"
    }
   ],
   "source": [
    "#Custom encoding is done here to store the unique values of certain columns, so that,it can be used later\n",
    "#And also, they need not be mapped and stored in dataframe for now...\n",
    "cust_id_dict={}\n",
    "x=0\n",
    "for i in list(df.name_customer.unique()):\n",
    "    cust_id_dict[i]=x\n",
    "    x=x+1\n",
    "\n",
    "len(cust_id_dict)"
   ]
  },
  {
   "cell_type": "code",
   "execution_count": 26,
   "metadata": {},
   "outputs": [
    {
     "data": {
      "text/plain": [
       "73"
      ]
     },
     "execution_count": 26,
     "metadata": {},
     "output_type": "execute_result"
    }
   ],
   "source": [
    "payment_terms_dict={}\n",
    "x=0\n",
    "for i in list(df.cust_payment_terms.unique()):\n",
    "    payment_terms_dict[i]=x\n",
    "    x=x+1\n",
    "\n",
    "len(payment_terms_dict)"
   ]
  },
  {
   "cell_type": "code",
   "execution_count": 27,
   "metadata": {},
   "outputs": [],
   "source": [
    "#Copy all rows which have nan values in clear_date column to another dataframe and then drop it from dataset\n",
    "\n",
    "test_df = df[df['clear_date'].isna()]\n",
    "\n",
    "df.dropna(axis=0, how='any', inplace=True)"
   ]
  },
  {
   "cell_type": "code",
   "execution_count": 28,
   "metadata": {},
   "outputs": [],
   "source": [
    "#Sort the datframe according to the 'posting_date'\n",
    "df.sort_values(by='posting_date',inplace=True,ascending=True)"
   ]
  },
  {
   "cell_type": "code",
   "execution_count": 29,
   "metadata": {},
   "outputs": [
    {
     "data": {
      "text/html": [
       "<div>\n",
       "<style scoped>\n",
       "    .dataframe tbody tr th:only-of-type {\n",
       "        vertical-align: middle;\n",
       "    }\n",
       "\n",
       "    .dataframe tbody tr th {\n",
       "        vertical-align: top;\n",
       "    }\n",
       "\n",
       "    .dataframe thead th {\n",
       "        text-align: right;\n",
       "    }\n",
       "</style>\n",
       "<table border=\"1\" class=\"dataframe\">\n",
       "  <thead>\n",
       "    <tr style=\"text-align: right;\">\n",
       "      <th></th>\n",
       "      <th>business_code</th>\n",
       "      <th>cust_number</th>\n",
       "      <th>name_customer</th>\n",
       "      <th>clear_date</th>\n",
       "      <th>buisness_year</th>\n",
       "      <th>doc_id</th>\n",
       "      <th>posting_date</th>\n",
       "      <th>document_create_date</th>\n",
       "      <th>due_in_date</th>\n",
       "      <th>invoice_currency</th>\n",
       "      <th>total_open_amount</th>\n",
       "      <th>baseline_create_date</th>\n",
       "      <th>cust_payment_terms</th>\n",
       "      <th>invoice_id</th>\n",
       "      <th>isOpen</th>\n",
       "    </tr>\n",
       "  </thead>\n",
       "  <tbody>\n",
       "    <tr>\n",
       "      <td>0</td>\n",
       "      <td>U001</td>\n",
       "      <td>0200799367</td>\n",
       "      <td>MCL</td>\n",
       "      <td>2019-01-18</td>\n",
       "      <td>2019</td>\n",
       "      <td>1.928541e+09</td>\n",
       "      <td>2018-12-30</td>\n",
       "      <td>2018-12-29</td>\n",
       "      <td>2019-01-14</td>\n",
       "      <td>USD</td>\n",
       "      <td>94904.14</td>\n",
       "      <td>2018-12-30</td>\n",
       "      <td>NAA8</td>\n",
       "      <td>1.928541e+09</td>\n",
       "      <td>0</td>\n",
       "    </tr>\n",
       "    <tr>\n",
       "      <td>1</td>\n",
       "      <td>U001</td>\n",
       "      <td>CCU013</td>\n",
       "      <td>KRAFT F llc</td>\n",
       "      <td>2019-03-01</td>\n",
       "      <td>2019</td>\n",
       "      <td>1.928533e+09</td>\n",
       "      <td>2018-12-30</td>\n",
       "      <td>2018-12-31</td>\n",
       "      <td>2018-12-30</td>\n",
       "      <td>USD</td>\n",
       "      <td>58296.03</td>\n",
       "      <td>2018-12-30</td>\n",
       "      <td>NAX2</td>\n",
       "      <td>1.928533e+09</td>\n",
       "      <td>0</td>\n",
       "    </tr>\n",
       "    <tr>\n",
       "      <td>2</td>\n",
       "      <td>U001</td>\n",
       "      <td>0200706844</td>\n",
       "      <td>WINC corp</td>\n",
       "      <td>2019-01-15</td>\n",
       "      <td>2019</td>\n",
       "      <td>1.928543e+09</td>\n",
       "      <td>2018-12-30</td>\n",
       "      <td>2018-12-30</td>\n",
       "      <td>2019-01-14</td>\n",
       "      <td>USD</td>\n",
       "      <td>2958.38</td>\n",
       "      <td>2018-12-30</td>\n",
       "      <td>NAA8</td>\n",
       "      <td>1.928543e+09</td>\n",
       "      <td>0</td>\n",
       "    </tr>\n",
       "    <tr>\n",
       "      <td>3</td>\n",
       "      <td>U001</td>\n",
       "      <td>0200769623</td>\n",
       "      <td>WAL-MAR corp</td>\n",
       "      <td>2019-01-09</td>\n",
       "      <td>2019</td>\n",
       "      <td>1.928541e+09</td>\n",
       "      <td>2018-12-30</td>\n",
       "      <td>2018-12-29</td>\n",
       "      <td>2019-01-14</td>\n",
       "      <td>USD</td>\n",
       "      <td>14548.67</td>\n",
       "      <td>2018-12-30</td>\n",
       "      <td>NAH4</td>\n",
       "      <td>1.928541e+09</td>\n",
       "      <td>0</td>\n",
       "    </tr>\n",
       "    <tr>\n",
       "      <td>4</td>\n",
       "      <td>U001</td>\n",
       "      <td>0200759878</td>\n",
       "      <td>SA</td>\n",
       "      <td>2019-01-15</td>\n",
       "      <td>2019</td>\n",
       "      <td>1.928533e+09</td>\n",
       "      <td>2018-12-30</td>\n",
       "      <td>2018-12-29</td>\n",
       "      <td>2019-01-14</td>\n",
       "      <td>USD</td>\n",
       "      <td>13891.01</td>\n",
       "      <td>2018-12-30</td>\n",
       "      <td>NAH4</td>\n",
       "      <td>1.928533e+09</td>\n",
       "      <td>0</td>\n",
       "    </tr>\n",
       "    <tr>\n",
       "      <td>...</td>\n",
       "      <td>...</td>\n",
       "      <td>...</td>\n",
       "      <td>...</td>\n",
       "      <td>...</td>\n",
       "      <td>...</td>\n",
       "      <td>...</td>\n",
       "      <td>...</td>\n",
       "      <td>...</td>\n",
       "      <td>...</td>\n",
       "      <td>...</td>\n",
       "      <td>...</td>\n",
       "      <td>...</td>\n",
       "      <td>...</td>\n",
       "      <td>...</td>\n",
       "      <td>...</td>\n",
       "    </tr>\n",
       "    <tr>\n",
       "      <td>39087</td>\n",
       "      <td>U001</td>\n",
       "      <td>0200759878</td>\n",
       "      <td>SA corp</td>\n",
       "      <td>2020-03-13</td>\n",
       "      <td>2020</td>\n",
       "      <td>1.930574e+09</td>\n",
       "      <td>2020-02-27</td>\n",
       "      <td>2020-02-26</td>\n",
       "      <td>2020-03-13</td>\n",
       "      <td>USD</td>\n",
       "      <td>49290.19</td>\n",
       "      <td>2020-02-27</td>\n",
       "      <td>NAH4</td>\n",
       "      <td>1.930574e+09</td>\n",
       "      <td>0</td>\n",
       "    </tr>\n",
       "    <tr>\n",
       "      <td>39088</td>\n",
       "      <td>U001</td>\n",
       "      <td>0200744019</td>\n",
       "      <td>TARG foundation</td>\n",
       "      <td>2020-03-10</td>\n",
       "      <td>2020</td>\n",
       "      <td>1.930572e+09</td>\n",
       "      <td>2020-02-27</td>\n",
       "      <td>2020-02-26</td>\n",
       "      <td>2020-03-13</td>\n",
       "      <td>USD</td>\n",
       "      <td>18132.90</td>\n",
       "      <td>2020-02-27</td>\n",
       "      <td>NAA8</td>\n",
       "      <td>1.930572e+09</td>\n",
       "      <td>0</td>\n",
       "    </tr>\n",
       "    <tr>\n",
       "      <td>39089</td>\n",
       "      <td>U001</td>\n",
       "      <td>0200126819</td>\n",
       "      <td>MCLANE in</td>\n",
       "      <td>2020-03-18</td>\n",
       "      <td>2020</td>\n",
       "      <td>1.930581e+09</td>\n",
       "      <td>2020-02-27</td>\n",
       "      <td>2020-02-28</td>\n",
       "      <td>2020-03-13</td>\n",
       "      <td>USD</td>\n",
       "      <td>17304.60</td>\n",
       "      <td>2020-02-27</td>\n",
       "      <td>NAA8</td>\n",
       "      <td>1.930581e+09</td>\n",
       "      <td>0</td>\n",
       "    </tr>\n",
       "    <tr>\n",
       "      <td>39090</td>\n",
       "      <td>U001</td>\n",
       "      <td>0200290370</td>\n",
       "      <td>BARGAIN  corp</td>\n",
       "      <td>2020-03-16</td>\n",
       "      <td>2020</td>\n",
       "      <td>1.930577e+09</td>\n",
       "      <td>2020-02-27</td>\n",
       "      <td>2020-02-27</td>\n",
       "      <td>2020-03-13</td>\n",
       "      <td>USD</td>\n",
       "      <td>3599.97</td>\n",
       "      <td>2020-02-27</td>\n",
       "      <td>NAA8</td>\n",
       "      <td>1.930577e+09</td>\n",
       "      <td>0</td>\n",
       "    </tr>\n",
       "    <tr>\n",
       "      <td>39091</td>\n",
       "      <td>U001</td>\n",
       "      <td>0200759878</td>\n",
       "      <td>SA in</td>\n",
       "      <td>2020-03-13</td>\n",
       "      <td>2020</td>\n",
       "      <td>1.930571e+09</td>\n",
       "      <td>2020-02-27</td>\n",
       "      <td>2020-02-26</td>\n",
       "      <td>2020-03-13</td>\n",
       "      <td>USD</td>\n",
       "      <td>75231.52</td>\n",
       "      <td>2020-02-27</td>\n",
       "      <td>NAH4</td>\n",
       "      <td>1.930571e+09</td>\n",
       "      <td>0</td>\n",
       "    </tr>\n",
       "  </tbody>\n",
       "</table>\n",
       "<p>39092 rows × 15 columns</p>\n",
       "</div>"
      ],
      "text/plain": [
       "      business_code cust_number    name_customer clear_date  buisness_year  \\\n",
       "0              U001  0200799367             MCL  2019-01-18           2019   \n",
       "1              U001      CCU013      KRAFT F llc 2019-03-01           2019   \n",
       "2              U001  0200706844        WINC corp 2019-01-15           2019   \n",
       "3              U001  0200769623     WAL-MAR corp 2019-01-09           2019   \n",
       "4              U001  0200759878              SA  2019-01-15           2019   \n",
       "...             ...         ...              ...        ...            ...   \n",
       "39087          U001  0200759878          SA corp 2020-03-13           2020   \n",
       "39088          U001  0200744019  TARG foundation 2020-03-10           2020   \n",
       "39089          U001  0200126819        MCLANE in 2020-03-18           2020   \n",
       "39090          U001  0200290370    BARGAIN  corp 2020-03-16           2020   \n",
       "39091          U001  0200759878            SA in 2020-03-13           2020   \n",
       "\n",
       "             doc_id posting_date document_create_date due_in_date  \\\n",
       "0      1.928541e+09   2018-12-30           2018-12-29  2019-01-14   \n",
       "1      1.928533e+09   2018-12-30           2018-12-31  2018-12-30   \n",
       "2      1.928543e+09   2018-12-30           2018-12-30  2019-01-14   \n",
       "3      1.928541e+09   2018-12-30           2018-12-29  2019-01-14   \n",
       "4      1.928533e+09   2018-12-30           2018-12-29  2019-01-14   \n",
       "...             ...          ...                  ...         ...   \n",
       "39087  1.930574e+09   2020-02-27           2020-02-26  2020-03-13   \n",
       "39088  1.930572e+09   2020-02-27           2020-02-26  2020-03-13   \n",
       "39089  1.930581e+09   2020-02-27           2020-02-28  2020-03-13   \n",
       "39090  1.930577e+09   2020-02-27           2020-02-27  2020-03-13   \n",
       "39091  1.930571e+09   2020-02-27           2020-02-26  2020-03-13   \n",
       "\n",
       "      invoice_currency  total_open_amount baseline_create_date  \\\n",
       "0                  USD           94904.14           2018-12-30   \n",
       "1                  USD           58296.03           2018-12-30   \n",
       "2                  USD            2958.38           2018-12-30   \n",
       "3                  USD           14548.67           2018-12-30   \n",
       "4                  USD           13891.01           2018-12-30   \n",
       "...                ...                ...                  ...   \n",
       "39087              USD           49290.19           2020-02-27   \n",
       "39088              USD           18132.90           2020-02-27   \n",
       "39089              USD           17304.60           2020-02-27   \n",
       "39090              USD            3599.97           2020-02-27   \n",
       "39091              USD           75231.52           2020-02-27   \n",
       "\n",
       "      cust_payment_terms    invoice_id  isOpen  \n",
       "0                   NAA8  1.928541e+09       0  \n",
       "1                   NAX2  1.928533e+09       0  \n",
       "2                   NAA8  1.928543e+09       0  \n",
       "3                   NAH4  1.928541e+09       0  \n",
       "4                   NAH4  1.928533e+09       0  \n",
       "...                  ...           ...     ...  \n",
       "39087               NAH4  1.930574e+09       0  \n",
       "39088               NAA8  1.930572e+09       0  \n",
       "39089               NAA8  1.930581e+09       0  \n",
       "39090               NAA8  1.930577e+09       0  \n",
       "39091               NAH4  1.930571e+09       0  \n",
       "\n",
       "[39092 rows x 15 columns]"
      ]
     },
     "execution_count": 29,
     "metadata": {},
     "output_type": "execute_result"
    }
   ],
   "source": [
    "df.reset_index(drop=True)"
   ]
  },
  {
   "cell_type": "code",
   "execution_count": 30,
   "metadata": {},
   "outputs": [],
   "source": [
    "#Find the no. of days elapsed after the due date (-ve value for early payment)\n",
    "\n",
    "df['target'] = (df['clear_date']-df['due_in_date']).dt.days"
   ]
  },
  {
   "cell_type": "code",
   "execution_count": 31,
   "metadata": {},
   "outputs": [],
   "source": [
    "#Find the difference between due date and document create date\n",
    "df['time_period'] = (df['due_in_date']-df['document_create_date']).dt.days"
   ]
  },
  {
   "cell_type": "code",
   "execution_count": 32,
   "metadata": {},
   "outputs": [
    {
     "name": "stdout",
     "output_type": "stream",
     "text": [
      "<class 'pandas.core.frame.DataFrame'>\n",
      "Int64Index: 39092 entries, 37121 to 7589\n",
      "Data columns (total 17 columns):\n",
      "business_code           39092 non-null object\n",
      "cust_number             39092 non-null object\n",
      "name_customer           39092 non-null object\n",
      "clear_date              39092 non-null datetime64[ns]\n",
      "buisness_year           39092 non-null int64\n",
      "doc_id                  39092 non-null float64\n",
      "posting_date            39092 non-null datetime64[ns]\n",
      "document_create_date    39092 non-null datetime64[ns]\n",
      "due_in_date             39092 non-null datetime64[ns]\n",
      "invoice_currency        39092 non-null object\n",
      "total_open_amount       39092 non-null float64\n",
      "baseline_create_date    39092 non-null datetime64[ns]\n",
      "cust_payment_terms      39092 non-null object\n",
      "invoice_id              39092 non-null float64\n",
      "isOpen                  39092 non-null int64\n",
      "target                  39092 non-null int64\n",
      "time_period             39092 non-null int64\n",
      "dtypes: datetime64[ns](5), float64(3), int64(4), object(5)\n",
      "memory usage: 5.4+ MB\n"
     ]
    }
   ],
   "source": [
    "df.info()"
   ]
  },
  {
   "cell_type": "code",
   "execution_count": 33,
   "metadata": {},
   "outputs": [
    {
     "data": {
      "text/html": [
       "<div>\n",
       "<style scoped>\n",
       "    .dataframe tbody tr th:only-of-type {\n",
       "        vertical-align: middle;\n",
       "    }\n",
       "\n",
       "    .dataframe tbody tr th {\n",
       "        vertical-align: top;\n",
       "    }\n",
       "\n",
       "    .dataframe thead th {\n",
       "        text-align: right;\n",
       "    }\n",
       "</style>\n",
       "<table border=\"1\" class=\"dataframe\">\n",
       "  <thead>\n",
       "    <tr style=\"text-align: right;\">\n",
       "      <th></th>\n",
       "      <th>business_code</th>\n",
       "      <th>cust_number</th>\n",
       "      <th>name_customer</th>\n",
       "      <th>clear_date</th>\n",
       "      <th>buisness_year</th>\n",
       "      <th>doc_id</th>\n",
       "      <th>posting_date</th>\n",
       "      <th>document_create_date</th>\n",
       "      <th>due_in_date</th>\n",
       "      <th>invoice_currency</th>\n",
       "      <th>total_open_amount</th>\n",
       "      <th>baseline_create_date</th>\n",
       "      <th>cust_payment_terms</th>\n",
       "      <th>invoice_id</th>\n",
       "      <th>isOpen</th>\n",
       "      <th>target</th>\n",
       "      <th>time_period</th>\n",
       "    </tr>\n",
       "  </thead>\n",
       "  <tbody>\n",
       "    <tr>\n",
       "      <td>37121</td>\n",
       "      <td>U001</td>\n",
       "      <td>0200799367</td>\n",
       "      <td>MCL</td>\n",
       "      <td>2019-01-18</td>\n",
       "      <td>2019</td>\n",
       "      <td>1.928541e+09</td>\n",
       "      <td>2018-12-30</td>\n",
       "      <td>2018-12-29</td>\n",
       "      <td>2019-01-14</td>\n",
       "      <td>USD</td>\n",
       "      <td>94904.14</td>\n",
       "      <td>2018-12-30</td>\n",
       "      <td>NAA8</td>\n",
       "      <td>1.928541e+09</td>\n",
       "      <td>0</td>\n",
       "      <td>4</td>\n",
       "      <td>16</td>\n",
       "    </tr>\n",
       "    <tr>\n",
       "      <td>36165</td>\n",
       "      <td>U001</td>\n",
       "      <td>CCU013</td>\n",
       "      <td>KRAFT F llc</td>\n",
       "      <td>2019-03-01</td>\n",
       "      <td>2019</td>\n",
       "      <td>1.928533e+09</td>\n",
       "      <td>2018-12-30</td>\n",
       "      <td>2018-12-31</td>\n",
       "      <td>2018-12-30</td>\n",
       "      <td>USD</td>\n",
       "      <td>58296.03</td>\n",
       "      <td>2018-12-30</td>\n",
       "      <td>NAX2</td>\n",
       "      <td>1.928533e+09</td>\n",
       "      <td>0</td>\n",
       "      <td>61</td>\n",
       "      <td>-1</td>\n",
       "    </tr>\n",
       "    <tr>\n",
       "      <td>6771</td>\n",
       "      <td>U001</td>\n",
       "      <td>0200706844</td>\n",
       "      <td>WINC corp</td>\n",
       "      <td>2019-01-15</td>\n",
       "      <td>2019</td>\n",
       "      <td>1.928543e+09</td>\n",
       "      <td>2018-12-30</td>\n",
       "      <td>2018-12-30</td>\n",
       "      <td>2019-01-14</td>\n",
       "      <td>USD</td>\n",
       "      <td>2958.38</td>\n",
       "      <td>2018-12-30</td>\n",
       "      <td>NAA8</td>\n",
       "      <td>1.928543e+09</td>\n",
       "      <td>0</td>\n",
       "      <td>1</td>\n",
       "      <td>15</td>\n",
       "    </tr>\n",
       "    <tr>\n",
       "      <td>755</td>\n",
       "      <td>U001</td>\n",
       "      <td>0200769623</td>\n",
       "      <td>WAL-MAR corp</td>\n",
       "      <td>2019-01-09</td>\n",
       "      <td>2019</td>\n",
       "      <td>1.928541e+09</td>\n",
       "      <td>2018-12-30</td>\n",
       "      <td>2018-12-29</td>\n",
       "      <td>2019-01-14</td>\n",
       "      <td>USD</td>\n",
       "      <td>14548.67</td>\n",
       "      <td>2018-12-30</td>\n",
       "      <td>NAH4</td>\n",
       "      <td>1.928541e+09</td>\n",
       "      <td>0</td>\n",
       "      <td>-5</td>\n",
       "      <td>16</td>\n",
       "    </tr>\n",
       "    <tr>\n",
       "      <td>46986</td>\n",
       "      <td>U001</td>\n",
       "      <td>0200759878</td>\n",
       "      <td>SA</td>\n",
       "      <td>2019-01-15</td>\n",
       "      <td>2019</td>\n",
       "      <td>1.928533e+09</td>\n",
       "      <td>2018-12-30</td>\n",
       "      <td>2018-12-29</td>\n",
       "      <td>2019-01-14</td>\n",
       "      <td>USD</td>\n",
       "      <td>13891.01</td>\n",
       "      <td>2018-12-30</td>\n",
       "      <td>NAH4</td>\n",
       "      <td>1.928533e+09</td>\n",
       "      <td>0</td>\n",
       "      <td>1</td>\n",
       "      <td>16</td>\n",
       "    </tr>\n",
       "    <tr>\n",
       "      <td>...</td>\n",
       "      <td>...</td>\n",
       "      <td>...</td>\n",
       "      <td>...</td>\n",
       "      <td>...</td>\n",
       "      <td>...</td>\n",
       "      <td>...</td>\n",
       "      <td>...</td>\n",
       "      <td>...</td>\n",
       "      <td>...</td>\n",
       "      <td>...</td>\n",
       "      <td>...</td>\n",
       "      <td>...</td>\n",
       "      <td>...</td>\n",
       "      <td>...</td>\n",
       "      <td>...</td>\n",
       "      <td>...</td>\n",
       "      <td>...</td>\n",
       "    </tr>\n",
       "    <tr>\n",
       "      <td>46400</td>\n",
       "      <td>U001</td>\n",
       "      <td>0200759878</td>\n",
       "      <td>SA corp</td>\n",
       "      <td>2020-03-13</td>\n",
       "      <td>2020</td>\n",
       "      <td>1.930574e+09</td>\n",
       "      <td>2020-02-27</td>\n",
       "      <td>2020-02-26</td>\n",
       "      <td>2020-03-13</td>\n",
       "      <td>USD</td>\n",
       "      <td>49290.19</td>\n",
       "      <td>2020-02-27</td>\n",
       "      <td>NAH4</td>\n",
       "      <td>1.930574e+09</td>\n",
       "      <td>0</td>\n",
       "      <td>0</td>\n",
       "      <td>16</td>\n",
       "    </tr>\n",
       "    <tr>\n",
       "      <td>32717</td>\n",
       "      <td>U001</td>\n",
       "      <td>0200744019</td>\n",
       "      <td>TARG foundation</td>\n",
       "      <td>2020-03-10</td>\n",
       "      <td>2020</td>\n",
       "      <td>1.930572e+09</td>\n",
       "      <td>2020-02-27</td>\n",
       "      <td>2020-02-26</td>\n",
       "      <td>2020-03-13</td>\n",
       "      <td>USD</td>\n",
       "      <td>18132.90</td>\n",
       "      <td>2020-02-27</td>\n",
       "      <td>NAA8</td>\n",
       "      <td>1.930572e+09</td>\n",
       "      <td>0</td>\n",
       "      <td>-3</td>\n",
       "      <td>16</td>\n",
       "    </tr>\n",
       "    <tr>\n",
       "      <td>44489</td>\n",
       "      <td>U001</td>\n",
       "      <td>0200126819</td>\n",
       "      <td>MCLANE in</td>\n",
       "      <td>2020-03-18</td>\n",
       "      <td>2020</td>\n",
       "      <td>1.930581e+09</td>\n",
       "      <td>2020-02-27</td>\n",
       "      <td>2020-02-28</td>\n",
       "      <td>2020-03-13</td>\n",
       "      <td>USD</td>\n",
       "      <td>17304.60</td>\n",
       "      <td>2020-02-27</td>\n",
       "      <td>NAA8</td>\n",
       "      <td>1.930581e+09</td>\n",
       "      <td>0</td>\n",
       "      <td>5</td>\n",
       "      <td>14</td>\n",
       "    </tr>\n",
       "    <tr>\n",
       "      <td>37156</td>\n",
       "      <td>U001</td>\n",
       "      <td>0200290370</td>\n",
       "      <td>BARGAIN  corp</td>\n",
       "      <td>2020-03-16</td>\n",
       "      <td>2020</td>\n",
       "      <td>1.930577e+09</td>\n",
       "      <td>2020-02-27</td>\n",
       "      <td>2020-02-27</td>\n",
       "      <td>2020-03-13</td>\n",
       "      <td>USD</td>\n",
       "      <td>3599.97</td>\n",
       "      <td>2020-02-27</td>\n",
       "      <td>NAA8</td>\n",
       "      <td>1.930577e+09</td>\n",
       "      <td>0</td>\n",
       "      <td>3</td>\n",
       "      <td>15</td>\n",
       "    </tr>\n",
       "    <tr>\n",
       "      <td>7589</td>\n",
       "      <td>U001</td>\n",
       "      <td>0200759878</td>\n",
       "      <td>SA in</td>\n",
       "      <td>2020-03-13</td>\n",
       "      <td>2020</td>\n",
       "      <td>1.930571e+09</td>\n",
       "      <td>2020-02-27</td>\n",
       "      <td>2020-02-26</td>\n",
       "      <td>2020-03-13</td>\n",
       "      <td>USD</td>\n",
       "      <td>75231.52</td>\n",
       "      <td>2020-02-27</td>\n",
       "      <td>NAH4</td>\n",
       "      <td>1.930571e+09</td>\n",
       "      <td>0</td>\n",
       "      <td>0</td>\n",
       "      <td>16</td>\n",
       "    </tr>\n",
       "  </tbody>\n",
       "</table>\n",
       "<p>39092 rows × 17 columns</p>\n",
       "</div>"
      ],
      "text/plain": [
       "      business_code cust_number    name_customer clear_date  buisness_year  \\\n",
       "37121          U001  0200799367             MCL  2019-01-18           2019   \n",
       "36165          U001      CCU013      KRAFT F llc 2019-03-01           2019   \n",
       "6771           U001  0200706844        WINC corp 2019-01-15           2019   \n",
       "755            U001  0200769623     WAL-MAR corp 2019-01-09           2019   \n",
       "46986          U001  0200759878              SA  2019-01-15           2019   \n",
       "...             ...         ...              ...        ...            ...   \n",
       "46400          U001  0200759878          SA corp 2020-03-13           2020   \n",
       "32717          U001  0200744019  TARG foundation 2020-03-10           2020   \n",
       "44489          U001  0200126819        MCLANE in 2020-03-18           2020   \n",
       "37156          U001  0200290370    BARGAIN  corp 2020-03-16           2020   \n",
       "7589           U001  0200759878            SA in 2020-03-13           2020   \n",
       "\n",
       "             doc_id posting_date document_create_date due_in_date  \\\n",
       "37121  1.928541e+09   2018-12-30           2018-12-29  2019-01-14   \n",
       "36165  1.928533e+09   2018-12-30           2018-12-31  2018-12-30   \n",
       "6771   1.928543e+09   2018-12-30           2018-12-30  2019-01-14   \n",
       "755    1.928541e+09   2018-12-30           2018-12-29  2019-01-14   \n",
       "46986  1.928533e+09   2018-12-30           2018-12-29  2019-01-14   \n",
       "...             ...          ...                  ...         ...   \n",
       "46400  1.930574e+09   2020-02-27           2020-02-26  2020-03-13   \n",
       "32717  1.930572e+09   2020-02-27           2020-02-26  2020-03-13   \n",
       "44489  1.930581e+09   2020-02-27           2020-02-28  2020-03-13   \n",
       "37156  1.930577e+09   2020-02-27           2020-02-27  2020-03-13   \n",
       "7589   1.930571e+09   2020-02-27           2020-02-26  2020-03-13   \n",
       "\n",
       "      invoice_currency  total_open_amount baseline_create_date  \\\n",
       "37121              USD           94904.14           2018-12-30   \n",
       "36165              USD           58296.03           2018-12-30   \n",
       "6771               USD            2958.38           2018-12-30   \n",
       "755                USD           14548.67           2018-12-30   \n",
       "46986              USD           13891.01           2018-12-30   \n",
       "...                ...                ...                  ...   \n",
       "46400              USD           49290.19           2020-02-27   \n",
       "32717              USD           18132.90           2020-02-27   \n",
       "44489              USD           17304.60           2020-02-27   \n",
       "37156              USD            3599.97           2020-02-27   \n",
       "7589               USD           75231.52           2020-02-27   \n",
       "\n",
       "      cust_payment_terms    invoice_id  isOpen  target  time_period  \n",
       "37121               NAA8  1.928541e+09       0       4           16  \n",
       "36165               NAX2  1.928533e+09       0      61           -1  \n",
       "6771                NAA8  1.928543e+09       0       1           15  \n",
       "755                 NAH4  1.928541e+09       0      -5           16  \n",
       "46986               NAH4  1.928533e+09       0       1           16  \n",
       "...                  ...           ...     ...     ...          ...  \n",
       "46400               NAH4  1.930574e+09       0       0           16  \n",
       "32717               NAA8  1.930572e+09       0      -3           16  \n",
       "44489               NAA8  1.930581e+09       0       5           14  \n",
       "37156               NAA8  1.930577e+09       0       3           15  \n",
       "7589                NAH4  1.930571e+09       0       0           16  \n",
       "\n",
       "[39092 rows x 17 columns]"
      ]
     },
     "execution_count": 33,
     "metadata": {},
     "output_type": "execute_result"
    }
   ],
   "source": [
    "df"
   ]
  },
  {
   "cell_type": "markdown",
   "metadata": {},
   "source": [
    "## Split the data into train and validation sets"
   ]
  },
  {
   "cell_type": "code",
   "execution_count": 34,
   "metadata": {},
   "outputs": [],
   "source": [
    "train, val = train_test_split(df, test_size=0.3, shuffle=False, random_state=0)"
   ]
  },
  {
   "cell_type": "code",
   "execution_count": 35,
   "metadata": {},
   "outputs": [
    {
     "data": {
      "text/plain": [
       "((27364, 17), (11728, 17))"
      ]
     },
     "execution_count": 35,
     "metadata": {},
     "output_type": "execute_result"
    }
   ],
   "source": [
    "train.shape, val.shape"
   ]
  },
  {
   "cell_type": "code",
   "execution_count": 36,
   "metadata": {},
   "outputs": [
    {
     "data": {
      "text/plain": [
       "business_code               6\n",
       "cust_number              1206\n",
       "name_customer            3303\n",
       "clear_date                286\n",
       "buisness_year               1\n",
       "doc_id                  27364\n",
       "posting_date              283\n",
       "document_create_date      291\n",
       "due_in_date               342\n",
       "invoice_currency            2\n",
       "total_open_amount       25225\n",
       "baseline_create_date      292\n",
       "cust_payment_terms         63\n",
       "invoice_id              27364\n",
       "isOpen                      1\n",
       "target                    175\n",
       "time_period               102\n",
       "dtype: int64"
      ]
     },
     "execution_count": 36,
     "metadata": {},
     "output_type": "execute_result"
    }
   ],
   "source": [
    "train.nunique()"
   ]
  },
  {
   "cell_type": "code",
   "execution_count": 37,
   "metadata": {},
   "outputs": [
    {
     "data": {
      "text/html": [
       "<div>\n",
       "<style scoped>\n",
       "    .dataframe tbody tr th:only-of-type {\n",
       "        vertical-align: middle;\n",
       "    }\n",
       "\n",
       "    .dataframe tbody tr th {\n",
       "        vertical-align: top;\n",
       "    }\n",
       "\n",
       "    .dataframe thead th {\n",
       "        text-align: right;\n",
       "    }\n",
       "</style>\n",
       "<table border=\"1\" class=\"dataframe\">\n",
       "  <thead>\n",
       "    <tr style=\"text-align: right;\">\n",
       "      <th></th>\n",
       "      <th>buisness_year</th>\n",
       "      <th>doc_id</th>\n",
       "      <th>total_open_amount</th>\n",
       "      <th>invoice_id</th>\n",
       "      <th>isOpen</th>\n",
       "      <th>target</th>\n",
       "      <th>time_period</th>\n",
       "    </tr>\n",
       "  </thead>\n",
       "  <tbody>\n",
       "    <tr>\n",
       "      <td>count</td>\n",
       "      <td>27364.0</td>\n",
       "      <td>2.736400e+04</td>\n",
       "      <td>27364.000000</td>\n",
       "      <td>2.736400e+04</td>\n",
       "      <td>27364.0</td>\n",
       "      <td>27364.000000</td>\n",
       "      <td>27364.000000</td>\n",
       "    </tr>\n",
       "    <tr>\n",
       "      <td>mean</td>\n",
       "      <td>2019.0</td>\n",
       "      <td>2.012852e+09</td>\n",
       "      <td>31936.095209</td>\n",
       "      <td>2.012852e+09</td>\n",
       "      <td>0.0</td>\n",
       "      <td>1.103201</td>\n",
       "      <td>18.316767</td>\n",
       "    </tr>\n",
       "    <tr>\n",
       "      <td>std</td>\n",
       "      <td>0.0</td>\n",
       "      <td>2.795734e+08</td>\n",
       "      <td>39222.299195</td>\n",
       "      <td>2.795734e+08</td>\n",
       "      <td>0.0</td>\n",
       "      <td>11.329568</td>\n",
       "      <td>11.349263</td>\n",
       "    </tr>\n",
       "    <tr>\n",
       "      <td>min</td>\n",
       "      <td>2019.0</td>\n",
       "      <td>1.928502e+09</td>\n",
       "      <td>0.650000</td>\n",
       "      <td>1.928502e+09</td>\n",
       "      <td>0.0</td>\n",
       "      <td>-78.000000</td>\n",
       "      <td>-108.000000</td>\n",
       "    </tr>\n",
       "    <tr>\n",
       "      <td>25%</td>\n",
       "      <td>2019.0</td>\n",
       "      <td>1.928991e+09</td>\n",
       "      <td>4614.870000</td>\n",
       "      <td>1.928991e+09</td>\n",
       "      <td>0.0</td>\n",
       "      <td>-3.000000</td>\n",
       "      <td>15.000000</td>\n",
       "    </tr>\n",
       "    <tr>\n",
       "      <td>50%</td>\n",
       "      <td>2019.0</td>\n",
       "      <td>1.929415e+09</td>\n",
       "      <td>17193.705000</td>\n",
       "      <td>1.929415e+09</td>\n",
       "      <td>0.0</td>\n",
       "      <td>0.000000</td>\n",
       "      <td>16.000000</td>\n",
       "    </tr>\n",
       "    <tr>\n",
       "      <td>75%</td>\n",
       "      <td>2019.0</td>\n",
       "      <td>1.929767e+09</td>\n",
       "      <td>46588.992500</td>\n",
       "      <td>1.929767e+09</td>\n",
       "      <td>0.0</td>\n",
       "      <td>2.000000</td>\n",
       "      <td>17.000000</td>\n",
       "    </tr>\n",
       "    <tr>\n",
       "      <td>max</td>\n",
       "      <td>2019.0</td>\n",
       "      <td>2.960585e+09</td>\n",
       "      <td>594540.260000</td>\n",
       "      <td>2.960585e+09</td>\n",
       "      <td>0.0</td>\n",
       "      <td>314.000000</td>\n",
       "      <td>120.000000</td>\n",
       "    </tr>\n",
       "  </tbody>\n",
       "</table>\n",
       "</div>"
      ],
      "text/plain": [
       "       buisness_year        doc_id  total_open_amount    invoice_id   isOpen  \\\n",
       "count        27364.0  2.736400e+04       27364.000000  2.736400e+04  27364.0   \n",
       "mean          2019.0  2.012852e+09       31936.095209  2.012852e+09      0.0   \n",
       "std              0.0  2.795734e+08       39222.299195  2.795734e+08      0.0   \n",
       "min           2019.0  1.928502e+09           0.650000  1.928502e+09      0.0   \n",
       "25%           2019.0  1.928991e+09        4614.870000  1.928991e+09      0.0   \n",
       "50%           2019.0  1.929415e+09       17193.705000  1.929415e+09      0.0   \n",
       "75%           2019.0  1.929767e+09       46588.992500  1.929767e+09      0.0   \n",
       "max           2019.0  2.960585e+09      594540.260000  2.960585e+09      0.0   \n",
       "\n",
       "             target   time_period  \n",
       "count  27364.000000  27364.000000  \n",
       "mean       1.103201     18.316767  \n",
       "std       11.329568     11.349263  \n",
       "min      -78.000000   -108.000000  \n",
       "25%       -3.000000     15.000000  \n",
       "50%        0.000000     16.000000  \n",
       "75%        2.000000     17.000000  \n",
       "max      314.000000    120.000000  "
      ]
     },
     "execution_count": 37,
     "metadata": {},
     "output_type": "execute_result"
    }
   ],
   "source": [
    "train.describe()"
   ]
  },
  {
   "cell_type": "code",
   "execution_count": 38,
   "metadata": {},
   "outputs": [],
   "source": [
    "train.drop('buisness_year',axis=1,inplace=True)\n",
    "\n",
    "train.drop('isOpen',axis=1,inplace=True)"
   ]
  },
  {
   "cell_type": "markdown",
   "metadata": {},
   "source": [
    "### Check for Correlation between numerical columns"
   ]
  },
  {
   "cell_type": "code",
   "execution_count": 39,
   "metadata": {},
   "outputs": [
    {
     "data": {
      "text/plain": [
       "(5.0, 0.0)"
      ]
     },
     "execution_count": 39,
     "metadata": {},
     "output_type": "execute_result"
    },
    {
     "data": {
      "image/png": "[encoded data removed]",
      "text/plain": [
       "<Figure size 432x288 with 2 Axes>"
      ]
     },
     "metadata": {
      "needs_background": "light"
     },
     "output_type": "display_data"
    }
   ],
   "source": [
    "numerical_columns=train.select_dtypes(include=np.number).columns.tolist()\n",
    "\n",
    "correlation=train.corr()\n",
    "plt.subplots()\n",
    "hm=sns.heatmap(correlation,annot=True)\n",
    "bottom, top = hm.get_ylim()\n",
    "hm.set_ylim(bottom + 0.5, top - 0.5)"
   ]
  },
  {
   "cell_type": "markdown",
   "metadata": {},
   "source": [
    "We can see here that the 'doc_id' and 'invoice_id' columns are highly correlated....Hence, they must be removed"
   ]
  },
  {
   "cell_type": "code",
   "execution_count": 40,
   "metadata": {},
   "outputs": [],
   "source": [
    "train.drop('doc_id',axis=1,inplace=True)\n",
    "\n",
    "train.drop('invoice_id',axis=1,inplace=True)"
   ]
  },
  {
   "cell_type": "code",
   "execution_count": 41,
   "metadata": {},
   "outputs": [
    {
     "name": "stdout",
     "output_type": "stream",
     "text": [
      "<class 'pandas.core.frame.DataFrame'>\n",
      "Int64Index: 27364 entries, 37121 to 1878\n",
      "Data columns (total 13 columns):\n",
      "business_code           27364 non-null object\n",
      "cust_number             27364 non-null object\n",
      "name_customer           27364 non-null object\n",
      "clear_date              27364 non-null datetime64[ns]\n",
      "posting_date            27364 non-null datetime64[ns]\n",
      "document_create_date    27364 non-null datetime64[ns]\n",
      "due_in_date             27364 non-null datetime64[ns]\n",
      "invoice_currency        27364 non-null object\n",
      "total_open_amount       27364 non-null float64\n",
      "baseline_create_date    27364 non-null datetime64[ns]\n",
      "cust_payment_terms      27364 non-null object\n",
      "target                  27364 non-null int64\n",
      "time_period             27364 non-null int64\n",
      "dtypes: datetime64[ns](5), float64(1), int64(2), object(5)\n",
      "memory usage: 2.9+ MB\n"
     ]
    }
   ],
   "source": [
    "train.info()"
   ]
  },
  {
   "cell_type": "markdown",
   "metadata": {},
   "source": [
    "### Graph for Day_of_the_week vs Delay"
   ]
  },
  {
   "cell_type": "code",
   "execution_count": 42,
   "metadata": {},
   "outputs": [
    {
     "data": {
      "image/png": "[encoded data removed]",
      "text/plain": [
       "<Figure size 720x360 with 1 Axes>"
      ]
     },
     "metadata": {
      "needs_background": "light"
     },
     "output_type": "display_data"
    }
   ],
   "source": [
    "plt.figure(figsize=(10,5))\n",
    "sns.lineplot(x=train[\"due_in_date\"].dt.dayofweek, y=train.target)\n",
    "plt.xlabel(\"Day of the week\")\n",
    "plt.ylabel(\"Delay\")\n",
    "plt.title(\"Day_of_the_week vs Delay\")\n",
    "plt.show()"
   ]
  },
  {
   "cell_type": "markdown",
   "metadata": {},
   "source": [
    "## Feature Engineering"
   ]
  },
  {
   "cell_type": "code",
   "execution_count": 43,
   "metadata": {},
   "outputs": [],
   "source": [
    "train['due_month'] = train['due_in_date'].dt.month\n",
    "val['due_month'] = val['due_in_date'].dt.month"
   ]
  },
  {
   "cell_type": "code",
   "execution_count": 44,
   "metadata": {},
   "outputs": [],
   "source": [
    "train['due_day'] = train['due_in_date'].dt.dayofweek\n",
    "val['due_day'] = val['due_in_date'].dt.dayofweek"
   ]
  },
  {
   "cell_type": "code",
   "execution_count": 45,
   "metadata": {},
   "outputs": [
    {
     "data": {
      "text/plain": [
       "business_code               6\n",
       "cust_number              1206\n",
       "name_customer            3303\n",
       "clear_date                286\n",
       "posting_date              283\n",
       "document_create_date      291\n",
       "due_in_date               342\n",
       "invoice_currency            2\n",
       "total_open_amount       25225\n",
       "baseline_create_date      292\n",
       "cust_payment_terms         63\n",
       "target                    175\n",
       "time_period               102\n",
       "due_month                  12\n",
       "due_day                     7\n",
       "dtype: int64"
      ]
     },
     "execution_count": 45,
     "metadata": {},
     "output_type": "execute_result"
    }
   ],
   "source": [
    "train.nunique()"
   ]
  },
  {
   "cell_type": "markdown",
   "metadata": {},
   "source": [
    "### Using LabelEncoder and OrdinalEncoder for encoding the unique values"
   ]
  },
  {
   "cell_type": "code",
   "execution_count": 46,
   "metadata": {},
   "outputs": [],
   "source": [
    "currencyLabelEncoder = LabelEncoder() \n",
    "train[\"invoice_currency\"] = currencyLabelEncoder.fit_transform(train[\"invoice_currency\"])\n",
    "val[\"invoice_currency\"] = currencyLabelEncoder.transform(val[\"invoice_currency\"])"
   ]
  },
  {
   "cell_type": "code",
   "execution_count": 47,
   "metadata": {},
   "outputs": [],
   "source": [
    "businessOrdinalEncoder = OrdinalEncoder()\n",
    "train[\"business_code\"] = businessOrdinalEncoder.fit_transform(train[[\"business_code\"]])\n",
    "val[\"business_code\"] = businessOrdinalEncoder.transform(val[[\"business_code\"]])"
   ]
  },
  {
   "cell_type": "code",
   "execution_count": 48,
   "metadata": {},
   "outputs": [],
   "source": [
    "#Using the dictionary created earlier for encoding the values\n",
    "train['customer_id'] = train['name_customer'].apply(lambda x: cust_id_dict.get(x))\n",
    "val['customer_id'] = val['name_customer'].apply(lambda x: cust_id_dict.get(x))"
   ]
  },
  {
   "cell_type": "code",
   "execution_count": 49,
   "metadata": {},
   "outputs": [],
   "source": [
    "train['payment_terms_id'] = train['cust_payment_terms'].apply(lambda x: payment_terms_dict.get(x))\n",
    "val['payment_terms_id'] = val['cust_payment_terms'].apply(lambda x: payment_terms_dict.get(x))"
   ]
  },
  {
   "cell_type": "code",
   "execution_count": 50,
   "metadata": {},
   "outputs": [
    {
     "data": {
      "text/plain": [
       "(0, 9)"
      ]
     },
     "execution_count": 50,
     "metadata": {},
     "output_type": "execute_result"
    },
    {
     "data": {
      "image/png": "[encoded data removed]",
      "text/plain": [
       "<Figure size 648x648 with 2 Axes>"
      ]
     },
     "metadata": {
      "needs_background": "light"
     },
     "output_type": "display_data"
    }
   ],
   "source": [
    "plt.figure(figsize=(9,9))\n",
    "cor = train.corr()\n",
    "cp=sns.heatmap(cor,cmap = 'viridis',annot=True)\n",
    "bottom1, top1 = hm.get_ylim()\n",
    "cp.set_ylim(0,9 )"
   ]
  },
  {
   "cell_type": "code",
   "execution_count": 51,
   "metadata": {},
   "outputs": [],
   "source": [
    "X_train = train[['customer_id', 'total_open_amount', 'payment_terms_id', 'due_day', 'time_period', 'invoice_currency']]\n",
    "y_train = train['target']"
   ]
  },
  {
   "cell_type": "code",
   "execution_count": 52,
   "metadata": {},
   "outputs": [],
   "source": [
    "X = val[['customer_id', 'total_open_amount', 'payment_terms_id', 'due_day', 'time_period', 'invoice_currency']]\n",
    "y = val['target']"
   ]
  },
  {
   "cell_type": "code",
   "execution_count": 53,
   "metadata": {},
   "outputs": [],
   "source": [
    "X_val, X_test, y_val, y_test = train_test_split(X, y, test_size=0.5, shuffle=False)"
   ]
  },
  {
   "cell_type": "markdown",
   "metadata": {},
   "source": [
    "Thus, the size of (train, val, test) sets -->   train - 70% , val - 15% , test - 15%"
   ]
  },
  {
   "cell_type": "markdown",
   "metadata": {},
   "source": [
    "# Random Forest Regression"
   ]
  },
  {
   "cell_type": "code",
   "execution_count": 54,
   "metadata": {},
   "outputs": [],
   "source": [
    "rf_reg = RandomForestRegressor(n_estimators=500, max_depth=8, n_jobs=-1)"
   ]
  },
  {
   "cell_type": "code",
   "execution_count": 55,
   "metadata": {},
   "outputs": [
    {
     "data": {
      "text/plain": [
       "RandomForestRegressor(bootstrap=True, criterion='mse', max_depth=8,\n",
       "                      max_features='auto', max_leaf_nodes=None,\n",
       "                      min_impurity_decrease=0.0, min_impurity_split=None,\n",
       "                      min_samples_leaf=1, min_samples_split=2,\n",
       "                      min_weight_fraction_leaf=0.0, n_estimators=500, n_jobs=-1,\n",
       "                      oob_score=False, random_state=None, verbose=0,\n",
       "                      warm_start=False)"
      ]
     },
     "execution_count": 55,
     "metadata": {},
     "output_type": "execute_result"
    }
   ],
   "source": [
    "rf_reg.fit(X_train, y_train)"
   ]
  },
  {
   "cell_type": "code",
   "execution_count": 56,
   "metadata": {},
   "outputs": [],
   "source": [
    "y_predict = rf_reg.predict(X_val)"
   ]
  },
  {
   "cell_type": "markdown",
   "metadata": {},
   "source": [
    "MSE value:"
   ]
  },
  {
   "cell_type": "code",
   "execution_count": 57,
   "metadata": {},
   "outputs": [
    {
     "data": {
      "text/plain": [
       "24.926395280178266"
      ]
     },
     "execution_count": 57,
     "metadata": {},
     "output_type": "execute_result"
    }
   ],
   "source": [
    "metrics.mean_squared_error(y_val, y_predict) "
   ]
  },
  {
   "cell_type": "markdown",
   "metadata": {},
   "source": [
    "## XGBoost Regression"
   ]
  },
  {
   "cell_type": "code",
   "execution_count": 58,
   "metadata": {},
   "outputs": [],
   "source": [
    "import xgboost as xgb\n",
    "cl = xgb.XGBRegressor()"
   ]
  },
  {
   "cell_type": "code",
   "execution_count": 59,
   "metadata": {},
   "outputs": [
    {
     "data": {
      "text/plain": [
       "XGBRegressor(base_score=0.5, booster='gbtree', colsample_bylevel=1,\n",
       "             colsample_bynode=1, colsample_bytree=1, gamma=0, gpu_id=-1,\n",
       "             importance_type='gain', interaction_constraints='',\n",
       "             learning_rate=0.300000012, max_delta_step=0, max_depth=6,\n",
       "             min_child_weight=1, missing=nan, monotone_constraints='()',\n",
       "             n_estimators=100, n_jobs=4, num_parallel_tree=1,\n",
       "             objective='reg:squarederror', random_state=0, reg_alpha=0,\n",
       "             reg_lambda=1, scale_pos_weight=1, subsample=1, tree_method='exact',\n",
       "             validate_parameters=1, verbosity=None)"
      ]
     },
     "execution_count": 59,
     "metadata": {},
     "output_type": "execute_result"
    }
   ],
   "source": [
    "cl.fit(X_train, y_train)"
   ]
  },
  {
   "cell_type": "code",
   "execution_count": 60,
   "metadata": {},
   "outputs": [],
   "source": [
    "y_predict2 = cl.predict(X_val)"
   ]
  },
  {
   "cell_type": "markdown",
   "metadata": {},
   "source": [
    "MSE value:"
   ]
  },
  {
   "cell_type": "code",
   "execution_count": 61,
   "metadata": {},
   "outputs": [
    {
     "data": {
      "text/plain": [
       "28.271730488195544"
      ]
     },
     "execution_count": 61,
     "metadata": {},
     "output_type": "execute_result"
    }
   ],
   "source": [
    "metrics.mean_squared_error(y_val, y_predict2) "
   ]
  },
  {
   "cell_type": "markdown",
   "metadata": {},
   "source": [
    "## Hyper-Parameter Tuning"
   ]
  },
  {
   "cell_type": "markdown",
   "metadata": {},
   "source": [
    "We will continue to use Random Forest Regression as it gives better accuracy"
   ]
  },
  {
   "cell_type": "code",
   "execution_count": 62,
   "metadata": {},
   "outputs": [],
   "source": [
    "from sklearn.model_selection import GridSearchCV\n",
    "# Create the parameter grid based on the results of random search \n",
    "param_grid = {\n",
    "    'max_depth': [5,7,8,10],\n",
    "    'max_features': [2, 3],\n",
    "    'min_samples_leaf': [3, 4, 5],\n",
    "    'min_samples_split': [8, 10, 12],\n",
    "    'n_estimators': [100, 200, 300, 400, 500, 1000]\n",
    "}\n",
    "# Create a based model\n",
    "rf = RandomForestRegressor()\n",
    "# Instantiate the grid search model\n",
    "grid_search = GridSearchCV(estimator = rf, param_grid = param_grid, \n",
    "                          cv = 3, n_jobs = -1, verbose = 2)"
   ]
  },
  {
   "cell_type": "code",
   "execution_count": 63,
   "metadata": {},
   "outputs": [],
   "source": [
    "#grid_search.fit(X_train, y_train)"
   ]
  },
  {
   "cell_type": "code",
   "execution_count": 225,
   "metadata": {},
   "outputs": [
    {
     "data": {
      "text/plain": [
       "{'max_depth': 10,\n",
       " 'max_features': 3,\n",
       " 'min_samples_leaf': 5,\n",
       " 'min_samples_split': 8,\n",
       " 'n_estimators': 100}"
      ]
     },
     "execution_count": 225,
     "metadata": {},
     "output_type": "execute_result"
    }
   ],
   "source": [
    "#grid_search.best_params_"
   ]
  },
  {
   "cell_type": "code",
   "execution_count": 228,
   "metadata": {},
   "outputs": [
    {
     "data": {
      "text/plain": [
       "RandomForestRegressor(bootstrap=True, criterion='mse', max_depth=10,\n",
       "                      max_features=3, max_leaf_nodes=None,\n",
       "                      min_impurity_decrease=0.0, min_impurity_split=None,\n",
       "                      min_samples_leaf=5, min_samples_split=8,\n",
       "                      min_weight_fraction_leaf=0.0, n_estimators=100,\n",
       "                      n_jobs=None, oob_score=False, random_state=None,\n",
       "                      verbose=0, warm_start=False)"
      ]
     },
     "execution_count": 228,
     "metadata": {},
     "output_type": "execute_result"
    }
   ],
   "source": [
    "#grid_search.best_estimator_"
   ]
  },
  {
   "cell_type": "markdown",
   "metadata": {},
   "source": [
    "## Random Forest Regression  after Hyper-Parameter Tuning"
   ]
  },
  {
   "cell_type": "code",
   "execution_count": 64,
   "metadata": {},
   "outputs": [
    {
     "data": {
      "text/plain": [
       "RandomForestRegressor(bootstrap=True, criterion='mse', max_depth=10,\n",
       "                      max_features=3, max_leaf_nodes=None,\n",
       "                      min_impurity_decrease=0.0, min_impurity_split=None,\n",
       "                      min_samples_leaf=5, min_samples_split=8,\n",
       "                      min_weight_fraction_leaf=0.0, n_estimators=100,\n",
       "                      n_jobs=None, oob_score=False, random_state=None,\n",
       "                      verbose=0, warm_start=False)"
      ]
     },
     "execution_count": 64,
     "metadata": {},
     "output_type": "execute_result"
    }
   ],
   "source": [
    "rf_regressor = RandomForestRegressor(bootstrap=True, criterion='mse', max_depth=10,\n",
    "                      max_features=3, max_leaf_nodes=None,\n",
    "                      min_impurity_decrease=0.0, min_impurity_split=None,\n",
    "                      min_samples_leaf=5, min_samples_split=8,\n",
    "                      min_weight_fraction_leaf=0.0, n_estimators=100,\n",
    "                      n_jobs=None, oob_score=False, random_state=None,\n",
    "                      verbose=0, warm_start=False)\n",
    "\n",
    "rf_regressor.fit(X_train, y_train)"
   ]
  },
  {
   "cell_type": "code",
   "execution_count": 65,
   "metadata": {},
   "outputs": [],
   "source": [
    "y_predict_hpt = rf_regressor.predict(X_val)"
   ]
  },
  {
   "cell_type": "markdown",
   "metadata": {},
   "source": [
    "MAE value:"
   ]
  },
  {
   "cell_type": "code",
   "execution_count": 66,
   "metadata": {},
   "outputs": [
    {
     "data": {
      "text/plain": [
       "2.839855800072986"
      ]
     },
     "execution_count": 66,
     "metadata": {},
     "output_type": "execute_result"
    }
   ],
   "source": [
    "metrics.mean_absolute_error(y_val, y_predict_hpt)"
   ]
  },
  {
   "cell_type": "markdown",
   "metadata": {},
   "source": [
    "MSE value:"
   ]
  },
  {
   "cell_type": "code",
   "execution_count": 67,
   "metadata": {},
   "outputs": [
    {
     "data": {
      "text/plain": [
       "24.523384018505855"
      ]
     },
     "execution_count": 67,
     "metadata": {},
     "output_type": "execute_result"
    }
   ],
   "source": [
    "metrics.mean_squared_error(y_val, y_predict_hpt)"
   ]
  },
  {
   "cell_type": "markdown",
   "metadata": {},
   "source": [
    "R-squared score:"
   ]
  },
  {
   "cell_type": "code",
   "execution_count": 68,
   "metadata": {},
   "outputs": [
    {
     "data": {
      "text/plain": [
       "0.45955996285137424"
      ]
     },
     "execution_count": 68,
     "metadata": {},
     "output_type": "execute_result"
    }
   ],
   "source": [
    "metrics.r2_score(y_val, y_predict_hpt)"
   ]
  },
  {
   "cell_type": "markdown",
   "metadata": {},
   "source": [
    "RMSE value:"
   ]
  },
  {
   "cell_type": "code",
   "execution_count": 69,
   "metadata": {},
   "outputs": [
    {
     "data": {
      "text/plain": [
       "4.952109047517618"
      ]
     },
     "execution_count": 69,
     "metadata": {},
     "output_type": "execute_result"
    }
   ],
   "source": [
    "np.sqrt(metrics.mean_squared_error(y_val, y_predict_hpt))"
   ]
  },
  {
   "cell_type": "markdown",
   "metadata": {},
   "source": [
    "## Using test set "
   ]
  },
  {
   "cell_type": "code",
   "execution_count": 70,
   "metadata": {},
   "outputs": [
    {
     "data": {
      "text/plain": [
       "RandomForestRegressor(bootstrap=True, criterion='mse', max_depth=10,\n",
       "                      max_features=3, max_leaf_nodes=None,\n",
       "                      min_impurity_decrease=0.0, min_impurity_split=None,\n",
       "                      min_samples_leaf=5, min_samples_split=8,\n",
       "                      min_weight_fraction_leaf=0.0, n_estimators=100,\n",
       "                      n_jobs=None, oob_score=False, random_state=None,\n",
       "                      verbose=0, warm_start=False)"
      ]
     },
     "execution_count": 70,
     "metadata": {},
     "output_type": "execute_result"
    }
   ],
   "source": [
    "rf_regressor1 = RandomForestRegressor(bootstrap=True, criterion='mse', max_depth=10,\n",
    "                      max_features=3, max_leaf_nodes=None,\n",
    "                      min_impurity_decrease=0.0, min_impurity_split=None,\n",
    "                      min_samples_leaf=5, min_samples_split=8,\n",
    "                      min_weight_fraction_leaf=0.0, n_estimators=100,\n",
    "                      n_jobs=None, oob_score=False, random_state=None,\n",
    "                      verbose=0, warm_start=False)\n",
    "\n",
    "rf_regressor1.fit(X_train, y_train)"
   ]
  },
  {
   "cell_type": "code",
   "execution_count": 71,
   "metadata": {},
   "outputs": [],
   "source": [
    "y_predict_test = rf_regressor1.predict(X_test)"
   ]
  },
  {
   "cell_type": "code",
   "execution_count": 72,
   "metadata": {},
   "outputs": [
    {
     "data": {
      "text/plain": [
       "59.18679477582934"
      ]
     },
     "execution_count": 72,
     "metadata": {},
     "output_type": "execute_result"
    }
   ],
   "source": [
    "metrics.mean_squared_error(y_test, y_predict_test)"
   ]
  },
  {
   "cell_type": "code",
   "execution_count": 73,
   "metadata": {},
   "outputs": [
    {
     "data": {
      "text/plain": [
       "7.693295443165389"
      ]
     },
     "execution_count": 73,
     "metadata": {},
     "output_type": "execute_result"
    }
   ],
   "source": [
    "np.sqrt(metrics.mean_squared_error(y_test, y_predict_test))"
   ]
  },
  {
   "cell_type": "markdown",
   "metadata": {},
   "source": [
    "## Predicting clearing dates "
   ]
  },
  {
   "cell_type": "markdown",
   "metadata": {},
   "source": [
    "### For test_df (dataframe with NaN values for 'clear_date' column)"
   ]
  },
  {
   "cell_type": "code",
   "execution_count": 74,
   "metadata": {},
   "outputs": [
    {
     "data": {
      "text/html": [
       "<div>\n",
       "<style scoped>\n",
       "    .dataframe tbody tr th:only-of-type {\n",
       "        vertical-align: middle;\n",
       "    }\n",
       "\n",
       "    .dataframe tbody tr th {\n",
       "        vertical-align: top;\n",
       "    }\n",
       "\n",
       "    .dataframe thead th {\n",
       "        text-align: right;\n",
       "    }\n",
       "</style>\n",
       "<table border=\"1\" class=\"dataframe\">\n",
       "  <thead>\n",
       "    <tr style=\"text-align: right;\">\n",
       "      <th></th>\n",
       "      <th>business_code</th>\n",
       "      <th>cust_number</th>\n",
       "      <th>name_customer</th>\n",
       "      <th>clear_date</th>\n",
       "      <th>buisness_year</th>\n",
       "      <th>doc_id</th>\n",
       "      <th>posting_date</th>\n",
       "      <th>document_create_date</th>\n",
       "      <th>due_in_date</th>\n",
       "      <th>invoice_currency</th>\n",
       "      <th>total_open_amount</th>\n",
       "      <th>baseline_create_date</th>\n",
       "      <th>cust_payment_terms</th>\n",
       "      <th>invoice_id</th>\n",
       "      <th>isOpen</th>\n",
       "    </tr>\n",
       "  </thead>\n",
       "  <tbody>\n",
       "    <tr>\n",
       "      <td>0</td>\n",
       "      <td>U001</td>\n",
       "      <td>0200744019</td>\n",
       "      <td>TARG trust</td>\n",
       "      <td>NaT</td>\n",
       "      <td>2020</td>\n",
       "      <td>1.930793e+09</td>\n",
       "      <td>2020-04-17</td>\n",
       "      <td>2020-04-16</td>\n",
       "      <td>2020-05-02</td>\n",
       "      <td>USD</td>\n",
       "      <td>34836.09</td>\n",
       "      <td>2020-04-17</td>\n",
       "      <td>NAA8</td>\n",
       "      <td>1.930793e+09</td>\n",
       "      <td>1</td>\n",
       "    </tr>\n",
       "    <tr>\n",
       "      <td>3</td>\n",
       "      <td>U001</td>\n",
       "      <td>0200794332</td>\n",
       "      <td>COST in</td>\n",
       "      <td>NaT</td>\n",
       "      <td>2020</td>\n",
       "      <td>1.930594e+09</td>\n",
       "      <td>2020-03-04</td>\n",
       "      <td>2020-03-03</td>\n",
       "      <td>2020-03-19</td>\n",
       "      <td>USD</td>\n",
       "      <td>8793.09</td>\n",
       "      <td>2020-03-04</td>\n",
       "      <td>NAAX</td>\n",
       "      <td>1.930594e+09</td>\n",
       "      <td>1</td>\n",
       "    </tr>\n",
       "    <tr>\n",
       "      <td>6</td>\n",
       "      <td>CA02</td>\n",
       "      <td>0140104429</td>\n",
       "      <td>COSTCO</td>\n",
       "      <td>NaT</td>\n",
       "      <td>2020</td>\n",
       "      <td>2.960623e+09</td>\n",
       "      <td>2020-03-20</td>\n",
       "      <td>2020-03-20</td>\n",
       "      <td>2020-03-30</td>\n",
       "      <td>CAD</td>\n",
       "      <td>32301.31</td>\n",
       "      <td>2020-03-20</td>\n",
       "      <td>CA10</td>\n",
       "      <td>2.960623e+09</td>\n",
       "      <td>1</td>\n",
       "    </tr>\n",
       "    <tr>\n",
       "      <td>7</td>\n",
       "      <td>U001</td>\n",
       "      <td>0200712105</td>\n",
       "      <td>WALG</td>\n",
       "      <td>NaT</td>\n",
       "      <td>2020</td>\n",
       "      <td>1.930760e+09</td>\n",
       "      <td>2020-04-07</td>\n",
       "      <td>2020-04-07</td>\n",
       "      <td>2020-04-22</td>\n",
       "      <td>USD</td>\n",
       "      <td>74881.86</td>\n",
       "      <td>2020-04-07</td>\n",
       "      <td>NAA8</td>\n",
       "      <td>1.930760e+09</td>\n",
       "      <td>1</td>\n",
       "    </tr>\n",
       "    <tr>\n",
       "      <td>12</td>\n",
       "      <td>U001</td>\n",
       "      <td>0200230690</td>\n",
       "      <td>DECA associates</td>\n",
       "      <td>NaT</td>\n",
       "      <td>2020</td>\n",
       "      <td>1.930586e+09</td>\n",
       "      <td>2020-03-02</td>\n",
       "      <td>2020-03-02</td>\n",
       "      <td>2020-03-24</td>\n",
       "      <td>USD</td>\n",
       "      <td>238.44</td>\n",
       "      <td>2020-03-01</td>\n",
       "      <td>NAM4</td>\n",
       "      <td>1.930586e+09</td>\n",
       "      <td>1</td>\n",
       "    </tr>\n",
       "    <tr>\n",
       "      <td>...</td>\n",
       "      <td>...</td>\n",
       "      <td>...</td>\n",
       "      <td>...</td>\n",
       "      <td>...</td>\n",
       "      <td>...</td>\n",
       "      <td>...</td>\n",
       "      <td>...</td>\n",
       "      <td>...</td>\n",
       "      <td>...</td>\n",
       "      <td>...</td>\n",
       "      <td>...</td>\n",
       "      <td>...</td>\n",
       "      <td>...</td>\n",
       "      <td>...</td>\n",
       "      <td>...</td>\n",
       "    </tr>\n",
       "    <tr>\n",
       "      <td>49969</td>\n",
       "      <td>U001</td>\n",
       "      <td>0200762301</td>\n",
       "      <td>C&amp;S WH associates</td>\n",
       "      <td>NaT</td>\n",
       "      <td>2020</td>\n",
       "      <td>1.930841e+09</td>\n",
       "      <td>2020-05-01</td>\n",
       "      <td>2020-04-30</td>\n",
       "      <td>2020-05-16</td>\n",
       "      <td>USD</td>\n",
       "      <td>4886.81</td>\n",
       "      <td>2020-05-01</td>\n",
       "      <td>NAC6</td>\n",
       "      <td>1.930841e+09</td>\n",
       "      <td>1</td>\n",
       "    </tr>\n",
       "    <tr>\n",
       "      <td>49971</td>\n",
       "      <td>U001</td>\n",
       "      <td>0200782001</td>\n",
       "      <td>GORDO associates</td>\n",
       "      <td>NaT</td>\n",
       "      <td>2020</td>\n",
       "      <td>1.930580e+09</td>\n",
       "      <td>2020-02-27</td>\n",
       "      <td>2020-02-27</td>\n",
       "      <td>2020-03-13</td>\n",
       "      <td>USD</td>\n",
       "      <td>21863.80</td>\n",
       "      <td>2020-02-27</td>\n",
       "      <td>NAA8</td>\n",
       "      <td>1.930580e+09</td>\n",
       "      <td>1</td>\n",
       "    </tr>\n",
       "    <tr>\n",
       "      <td>49978</td>\n",
       "      <td>U001</td>\n",
       "      <td>0200705742</td>\n",
       "      <td>DOT co</td>\n",
       "      <td>NaT</td>\n",
       "      <td>2020</td>\n",
       "      <td>1.930653e+09</td>\n",
       "      <td>2020-03-15</td>\n",
       "      <td>2020-03-15</td>\n",
       "      <td>2020-03-30</td>\n",
       "      <td>USD</td>\n",
       "      <td>5900.00</td>\n",
       "      <td>2020-03-15</td>\n",
       "      <td>NAA8</td>\n",
       "      <td>1.930653e+09</td>\n",
       "      <td>1</td>\n",
       "    </tr>\n",
       "    <tr>\n",
       "      <td>49980</td>\n",
       "      <td>U001</td>\n",
       "      <td>0200714710</td>\n",
       "      <td>SYSCO</td>\n",
       "      <td>NaT</td>\n",
       "      <td>2020</td>\n",
       "      <td>1.930643e+09</td>\n",
       "      <td>2020-03-17</td>\n",
       "      <td>2020-03-12</td>\n",
       "      <td>2020-04-01</td>\n",
       "      <td>USD</td>\n",
       "      <td>152.41</td>\n",
       "      <td>2020-03-17</td>\n",
       "      <td>NAA8</td>\n",
       "      <td>1.930643e+09</td>\n",
       "      <td>1</td>\n",
       "    </tr>\n",
       "    <tr>\n",
       "      <td>49998</td>\n",
       "      <td>CA02</td>\n",
       "      <td>0140104392</td>\n",
       "      <td>FLANAG llc</td>\n",
       "      <td>NaT</td>\n",
       "      <td>2020</td>\n",
       "      <td>2.960619e+09</td>\n",
       "      <td>2020-03-06</td>\n",
       "      <td>2020-03-06</td>\n",
       "      <td>2020-03-20</td>\n",
       "      <td>CAD</td>\n",
       "      <td>14869.54</td>\n",
       "      <td>2020-03-10</td>\n",
       "      <td>CA10</td>\n",
       "      <td>2.960619e+09</td>\n",
       "      <td>1</td>\n",
       "    </tr>\n",
       "  </tbody>\n",
       "</table>\n",
       "<p>9703 rows × 15 columns</p>\n",
       "</div>"
      ],
      "text/plain": [
       "      business_code cust_number      name_customer clear_date  buisness_year  \\\n",
       "0              U001  0200744019         TARG trust        NaT           2020   \n",
       "3              U001  0200794332            COST in        NaT           2020   \n",
       "6              CA02  0140104429            COSTCO         NaT           2020   \n",
       "7              U001  0200712105              WALG         NaT           2020   \n",
       "12             U001  0200230690    DECA associates        NaT           2020   \n",
       "...             ...         ...                ...        ...            ...   \n",
       "49969          U001  0200762301  C&S WH associates        NaT           2020   \n",
       "49971          U001  0200782001   GORDO associates        NaT           2020   \n",
       "49978          U001  0200705742             DOT co        NaT           2020   \n",
       "49980          U001  0200714710            SYSCO          NaT           2020   \n",
       "49998          CA02  0140104392         FLANAG llc        NaT           2020   \n",
       "\n",
       "             doc_id posting_date document_create_date due_in_date  \\\n",
       "0      1.930793e+09   2020-04-17           2020-04-16  2020-05-02   \n",
       "3      1.930594e+09   2020-03-04           2020-03-03  2020-03-19   \n",
       "6      2.960623e+09   2020-03-20           2020-03-20  2020-03-30   \n",
       "7      1.930760e+09   2020-04-07           2020-04-07  2020-04-22   \n",
       "12     1.930586e+09   2020-03-02           2020-03-02  2020-03-24   \n",
       "...             ...          ...                  ...         ...   \n",
       "49969  1.930841e+09   2020-05-01           2020-04-30  2020-05-16   \n",
       "49971  1.930580e+09   2020-02-27           2020-02-27  2020-03-13   \n",
       "49978  1.930653e+09   2020-03-15           2020-03-15  2020-03-30   \n",
       "49980  1.930643e+09   2020-03-17           2020-03-12  2020-04-01   \n",
       "49998  2.960619e+09   2020-03-06           2020-03-06  2020-03-20   \n",
       "\n",
       "      invoice_currency  total_open_amount baseline_create_date  \\\n",
       "0                  USD           34836.09           2020-04-17   \n",
       "3                  USD            8793.09           2020-03-04   \n",
       "6                  CAD           32301.31           2020-03-20   \n",
       "7                  USD           74881.86           2020-04-07   \n",
       "12                 USD             238.44           2020-03-01   \n",
       "...                ...                ...                  ...   \n",
       "49969              USD            4886.81           2020-05-01   \n",
       "49971              USD           21863.80           2020-02-27   \n",
       "49978              USD            5900.00           2020-03-15   \n",
       "49980              USD             152.41           2020-03-17   \n",
       "49998              CAD           14869.54           2020-03-10   \n",
       "\n",
       "      cust_payment_terms    invoice_id  isOpen  \n",
       "0                   NAA8  1.930793e+09       1  \n",
       "3                   NAAX  1.930594e+09       1  \n",
       "6                   CA10  2.960623e+09       1  \n",
       "7                   NAA8  1.930760e+09       1  \n",
       "12                  NAM4  1.930586e+09       1  \n",
       "...                  ...           ...     ...  \n",
       "49969               NAC6  1.930841e+09       1  \n",
       "49971               NAA8  1.930580e+09       1  \n",
       "49978               NAA8  1.930653e+09       1  \n",
       "49980               NAA8  1.930643e+09       1  \n",
       "49998               CA10  2.960619e+09       1  \n",
       "\n",
       "[9703 rows x 15 columns]"
      ]
     },
     "execution_count": 74,
     "metadata": {},
     "output_type": "execute_result"
    }
   ],
   "source": [
    "test_df"
   ]
  },
  {
   "cell_type": "code",
   "execution_count": 75,
   "metadata": {},
   "outputs": [
    {
     "name": "stdout",
     "output_type": "stream",
     "text": [
      "<class 'pandas.core.frame.DataFrame'>\n",
      "Int64Index: 9703 entries, 0 to 49998\n",
      "Data columns (total 15 columns):\n",
      "business_code           9703 non-null object\n",
      "cust_number             9703 non-null object\n",
      "name_customer           9703 non-null object\n",
      "clear_date              0 non-null datetime64[ns]\n",
      "buisness_year           9703 non-null int64\n",
      "doc_id                  9703 non-null float64\n",
      "posting_date            9703 non-null datetime64[ns]\n",
      "document_create_date    9703 non-null datetime64[ns]\n",
      "due_in_date             9703 non-null datetime64[ns]\n",
      "invoice_currency        9703 non-null object\n",
      "total_open_amount       9703 non-null float64\n",
      "baseline_create_date    9703 non-null datetime64[ns]\n",
      "cust_payment_terms      9703 non-null object\n",
      "invoice_id              9703 non-null float64\n",
      "isOpen                  9703 non-null int64\n",
      "dtypes: datetime64[ns](5), float64(3), int64(2), object(5)\n",
      "memory usage: 1.2+ MB\n"
     ]
    }
   ],
   "source": [
    "test_df.info()"
   ]
  },
  {
   "cell_type": "markdown",
   "metadata": {},
   "source": [
    "### Creating all the necessary columns required for prediction"
   ]
  },
  {
   "cell_type": "code",
   "execution_count": 76,
   "metadata": {},
   "outputs": [],
   "source": [
    "test_df['customer_id'] = test_df['name_customer'].apply(lambda x: cust_id_dict.get(x))"
   ]
  },
  {
   "cell_type": "code",
   "execution_count": 77,
   "metadata": {},
   "outputs": [],
   "source": [
    "test_df['payment_terms_id'] = test_df['cust_payment_terms'].apply(lambda x: payment_terms_dict.get(x))"
   ]
  },
  {
   "cell_type": "code",
   "execution_count": 78,
   "metadata": {},
   "outputs": [],
   "source": [
    "test_df['due_day'] = test_df['due_in_date'].dt.dayofweek"
   ]
  },
  {
   "cell_type": "code",
   "execution_count": 79,
   "metadata": {},
   "outputs": [],
   "source": [
    "test_df['time_period'] = (test_df['due_in_date'] - test_df['document_create_date']).dt.days"
   ]
  },
  {
   "cell_type": "code",
   "execution_count": 80,
   "metadata": {},
   "outputs": [],
   "source": [
    "test_df[\"invoice_currency\"] = currencyLabelEncoder.transform(test_df[\"invoice_currency\"])"
   ]
  },
  {
   "cell_type": "code",
   "execution_count": 81,
   "metadata": {},
   "outputs": [],
   "source": [
    "test_df.drop('isOpen', axis=1, inplace=True)"
   ]
  },
  {
   "cell_type": "code",
   "execution_count": 82,
   "metadata": {},
   "outputs": [
    {
     "name": "stdout",
     "output_type": "stream",
     "text": [
      "<class 'pandas.core.frame.DataFrame'>\n",
      "Int64Index: 9703 entries, 0 to 49998\n",
      "Data columns (total 18 columns):\n",
      "business_code           9703 non-null object\n",
      "cust_number             9703 non-null object\n",
      "name_customer           9703 non-null object\n",
      "clear_date              0 non-null datetime64[ns]\n",
      "buisness_year           9703 non-null int64\n",
      "doc_id                  9703 non-null float64\n",
      "posting_date            9703 non-null datetime64[ns]\n",
      "document_create_date    9703 non-null datetime64[ns]\n",
      "due_in_date             9703 non-null datetime64[ns]\n",
      "invoice_currency        9703 non-null int32\n",
      "total_open_amount       9703 non-null float64\n",
      "baseline_create_date    9703 non-null datetime64[ns]\n",
      "cust_payment_terms      9703 non-null object\n",
      "invoice_id              9703 non-null float64\n",
      "customer_id             9703 non-null int64\n",
      "payment_terms_id        9703 non-null int64\n",
      "due_day                 9703 non-null int64\n",
      "time_period             9703 non-null int64\n",
      "dtypes: datetime64[ns](5), float64(3), int32(1), int64(5), object(4)\n",
      "memory usage: 1.4+ MB\n"
     ]
    }
   ],
   "source": [
    "test_df.info()"
   ]
  },
  {
   "cell_type": "code",
   "execution_count": 83,
   "metadata": {},
   "outputs": [],
   "source": [
    "X_final_pred = test_df[X_test.keys()]\n",
    "y_final_pred = rf_regressor1.predict(X_final_pred)"
   ]
  },
  {
   "cell_type": "code",
   "execution_count": 84,
   "metadata": {},
   "outputs": [],
   "source": [
    "from datetime import timedelta\n",
    "\n",
    "target = np.array([timedelta(i) for i in y_final_pred]).reshape(-1,1)\n",
    "test_df[\"predicted_clear_date\"] = test_df[[\"due_in_date\"]] + target"
   ]
  },
  {
   "cell_type": "code",
   "execution_count": 85,
   "metadata": {},
   "outputs": [],
   "source": [
    "test_df['predicted_clear_date'] = test_df['predicted_clear_date'].dt.date"
   ]
  },
  {
   "cell_type": "code",
   "execution_count": 86,
   "metadata": {},
   "outputs": [],
   "source": [
    "test_df['predicted_clear_date'] = pd.to_datetime(test_df['predicted_clear_date'])"
   ]
  },
  {
   "cell_type": "code",
   "execution_count": 87,
   "metadata": {},
   "outputs": [
    {
     "name": "stdout",
     "output_type": "stream",
     "text": [
      "<class 'pandas.core.frame.DataFrame'>\n",
      "Int64Index: 9703 entries, 0 to 49998\n",
      "Data columns (total 19 columns):\n",
      "business_code           9703 non-null object\n",
      "cust_number             9703 non-null object\n",
      "name_customer           9703 non-null object\n",
      "clear_date              0 non-null datetime64[ns]\n",
      "buisness_year           9703 non-null int64\n",
      "doc_id                  9703 non-null float64\n",
      "posting_date            9703 non-null datetime64[ns]\n",
      "document_create_date    9703 non-null datetime64[ns]\n",
      "due_in_date             9703 non-null datetime64[ns]\n",
      "invoice_currency        9703 non-null int32\n",
      "total_open_amount       9703 non-null float64\n",
      "baseline_create_date    9703 non-null datetime64[ns]\n",
      "cust_payment_terms      9703 non-null object\n",
      "invoice_id              9703 non-null float64\n",
      "customer_id             9703 non-null int64\n",
      "payment_terms_id        9703 non-null int64\n",
      "due_day                 9703 non-null int64\n",
      "time_period             9703 non-null int64\n",
      "predicted_clear_date    9703 non-null datetime64[ns]\n",
      "dtypes: datetime64[ns](6), float64(3), int32(1), int64(5), object(4)\n",
      "memory usage: 1.4+ MB\n"
     ]
    }
   ],
   "source": [
    "test_df.info()"
   ]
  },
  {
   "cell_type": "code",
   "execution_count": 88,
   "metadata": {},
   "outputs": [],
   "source": [
    "test_df['target'] = (test_df['predicted_clear_date'] - test_df['due_in_date']).dt.days"
   ]
  },
  {
   "cell_type": "markdown",
   "metadata": {},
   "source": [
    "## Aging Bucket"
   ]
  },
  {
   "cell_type": "code",
   "execution_count": 89,
   "metadata": {},
   "outputs": [],
   "source": [
    "# Creating an aging bucket to categorize the rows according to the payment delay\n",
    "\n",
    "test_df[\"aging_bucket\"] = pd.cut(y_final_pred, [float(\"-inf\"),0.,15.,30.,45.,60.,float(\"inf\")],\n",
    "                                 labels=[\"Less than 0\",\"0-15\",\"16-30\",\"31-45\",\"46-60\",\"Greater than 60\"])"
   ]
  },
  {
   "cell_type": "code",
   "execution_count": 90,
   "metadata": {},
   "outputs": [
    {
     "data": {
      "text/plain": [
       "0-15               5925\n",
       "Less than 0        3698\n",
       "31-45                45\n",
       "16-30                21\n",
       "46-60                14\n",
       "Greater than 60       0\n",
       "Name: aging_bucket, dtype: int64"
      ]
     },
     "execution_count": 90,
     "metadata": {},
     "output_type": "execute_result"
    }
   ],
   "source": [
    "test_df['aging_bucket'].value_counts()"
   ]
  },
  {
   "cell_type": "code",
   "execution_count": 91,
   "metadata": {},
   "outputs": [],
   "source": [
    "test_df.drop('clear_date', axis = 1, inplace = True)"
   ]
  },
  {
   "cell_type": "code",
   "execution_count": 92,
   "metadata": {},
   "outputs": [
    {
     "data": {
      "text/html": [
       "<div>\n",
       "<style scoped>\n",
       "    .dataframe tbody tr th:only-of-type {\n",
       "        vertical-align: middle;\n",
       "    }\n",
       "\n",
       "    .dataframe tbody tr th {\n",
       "        vertical-align: top;\n",
       "    }\n",
       "\n",
       "    .dataframe thead th {\n",
       "        text-align: right;\n",
       "    }\n",
       "</style>\n",
       "<table border=\"1\" class=\"dataframe\">\n",
       "  <thead>\n",
       "    <tr style=\"text-align: right;\">\n",
       "      <th></th>\n",
       "      <th>business_code</th>\n",
       "      <th>cust_number</th>\n",
       "      <th>name_customer</th>\n",
       "      <th>buisness_year</th>\n",
       "      <th>doc_id</th>\n",
       "      <th>posting_date</th>\n",
       "      <th>document_create_date</th>\n",
       "      <th>due_in_date</th>\n",
       "      <th>invoice_currency</th>\n",
       "      <th>total_open_amount</th>\n",
       "      <th>baseline_create_date</th>\n",
       "      <th>cust_payment_terms</th>\n",
       "      <th>invoice_id</th>\n",
       "      <th>customer_id</th>\n",
       "      <th>payment_terms_id</th>\n",
       "      <th>due_day</th>\n",
       "      <th>time_period</th>\n",
       "      <th>predicted_clear_date</th>\n",
       "      <th>target</th>\n",
       "      <th>aging_bucket</th>\n",
       "    </tr>\n",
       "  </thead>\n",
       "  <tbody>\n",
       "    <tr>\n",
       "      <td>0</td>\n",
       "      <td>U001</td>\n",
       "      <td>0200744019</td>\n",
       "      <td>TARG trust</td>\n",
       "      <td>2020</td>\n",
       "      <td>1.930793e+09</td>\n",
       "      <td>2020-04-17</td>\n",
       "      <td>2020-04-16</td>\n",
       "      <td>2020-05-02</td>\n",
       "      <td>1</td>\n",
       "      <td>34836.09</td>\n",
       "      <td>2020-04-17</td>\n",
       "      <td>NAA8</td>\n",
       "      <td>1.930793e+09</td>\n",
       "      <td>0</td>\n",
       "      <td>0</td>\n",
       "      <td>5</td>\n",
       "      <td>16</td>\n",
       "      <td>2020-05-04</td>\n",
       "      <td>2</td>\n",
       "      <td>0-15</td>\n",
       "    </tr>\n",
       "    <tr>\n",
       "      <td>3</td>\n",
       "      <td>U001</td>\n",
       "      <td>0200794332</td>\n",
       "      <td>COST in</td>\n",
       "      <td>2020</td>\n",
       "      <td>1.930594e+09</td>\n",
       "      <td>2020-03-04</td>\n",
       "      <td>2020-03-03</td>\n",
       "      <td>2020-03-19</td>\n",
       "      <td>1</td>\n",
       "      <td>8793.09</td>\n",
       "      <td>2020-03-04</td>\n",
       "      <td>NAAX</td>\n",
       "      <td>1.930594e+09</td>\n",
       "      <td>3</td>\n",
       "      <td>2</td>\n",
       "      <td>3</td>\n",
       "      <td>16</td>\n",
       "      <td>2020-03-19</td>\n",
       "      <td>0</td>\n",
       "      <td>0-15</td>\n",
       "    </tr>\n",
       "    <tr>\n",
       "      <td>6</td>\n",
       "      <td>CA02</td>\n",
       "      <td>0140104429</td>\n",
       "      <td>COSTCO</td>\n",
       "      <td>2020</td>\n",
       "      <td>2.960623e+09</td>\n",
       "      <td>2020-03-20</td>\n",
       "      <td>2020-03-20</td>\n",
       "      <td>2020-03-30</td>\n",
       "      <td>0</td>\n",
       "      <td>32301.31</td>\n",
       "      <td>2020-03-20</td>\n",
       "      <td>CA10</td>\n",
       "      <td>2.960623e+09</td>\n",
       "      <td>6</td>\n",
       "      <td>1</td>\n",
       "      <td>0</td>\n",
       "      <td>10</td>\n",
       "      <td>2020-04-07</td>\n",
       "      <td>8</td>\n",
       "      <td>0-15</td>\n",
       "    </tr>\n",
       "    <tr>\n",
       "      <td>7</td>\n",
       "      <td>U001</td>\n",
       "      <td>0200712105</td>\n",
       "      <td>WALG</td>\n",
       "      <td>2020</td>\n",
       "      <td>1.930760e+09</td>\n",
       "      <td>2020-04-07</td>\n",
       "      <td>2020-04-07</td>\n",
       "      <td>2020-04-22</td>\n",
       "      <td>1</td>\n",
       "      <td>74881.86</td>\n",
       "      <td>2020-04-07</td>\n",
       "      <td>NAA8</td>\n",
       "      <td>1.930760e+09</td>\n",
       "      <td>7</td>\n",
       "      <td>0</td>\n",
       "      <td>2</td>\n",
       "      <td>15</td>\n",
       "      <td>2020-04-23</td>\n",
       "      <td>1</td>\n",
       "      <td>0-15</td>\n",
       "    </tr>\n",
       "    <tr>\n",
       "      <td>12</td>\n",
       "      <td>U001</td>\n",
       "      <td>0200230690</td>\n",
       "      <td>DECA associates</td>\n",
       "      <td>2020</td>\n",
       "      <td>1.930586e+09</td>\n",
       "      <td>2020-03-02</td>\n",
       "      <td>2020-03-02</td>\n",
       "      <td>2020-03-24</td>\n",
       "      <td>1</td>\n",
       "      <td>238.44</td>\n",
       "      <td>2020-03-01</td>\n",
       "      <td>NAM4</td>\n",
       "      <td>1.930586e+09</td>\n",
       "      <td>12</td>\n",
       "      <td>6</td>\n",
       "      <td>1</td>\n",
       "      <td>22</td>\n",
       "      <td>2020-03-16</td>\n",
       "      <td>-8</td>\n",
       "      <td>Less than 0</td>\n",
       "    </tr>\n",
       "    <tr>\n",
       "      <td>...</td>\n",
       "      <td>...</td>\n",
       "      <td>...</td>\n",
       "      <td>...</td>\n",
       "      <td>...</td>\n",
       "      <td>...</td>\n",
       "      <td>...</td>\n",
       "      <td>...</td>\n",
       "      <td>...</td>\n",
       "      <td>...</td>\n",
       "      <td>...</td>\n",
       "      <td>...</td>\n",
       "      <td>...</td>\n",
       "      <td>...</td>\n",
       "      <td>...</td>\n",
       "      <td>...</td>\n",
       "      <td>...</td>\n",
       "      <td>...</td>\n",
       "      <td>...</td>\n",
       "      <td>...</td>\n",
       "      <td>...</td>\n",
       "    </tr>\n",
       "    <tr>\n",
       "      <td>49969</td>\n",
       "      <td>U001</td>\n",
       "      <td>0200762301</td>\n",
       "      <td>C&amp;S WH associates</td>\n",
       "      <td>2020</td>\n",
       "      <td>1.930841e+09</td>\n",
       "      <td>2020-05-01</td>\n",
       "      <td>2020-04-30</td>\n",
       "      <td>2020-05-16</td>\n",
       "      <td>1</td>\n",
       "      <td>4886.81</td>\n",
       "      <td>2020-05-01</td>\n",
       "      <td>NAC6</td>\n",
       "      <td>1.930841e+09</td>\n",
       "      <td>398</td>\n",
       "      <td>7</td>\n",
       "      <td>5</td>\n",
       "      <td>16</td>\n",
       "      <td>2020-05-16</td>\n",
       "      <td>0</td>\n",
       "      <td>0-15</td>\n",
       "    </tr>\n",
       "    <tr>\n",
       "      <td>49971</td>\n",
       "      <td>U001</td>\n",
       "      <td>0200782001</td>\n",
       "      <td>GORDO associates</td>\n",
       "      <td>2020</td>\n",
       "      <td>1.930580e+09</td>\n",
       "      <td>2020-02-27</td>\n",
       "      <td>2020-02-27</td>\n",
       "      <td>2020-03-13</td>\n",
       "      <td>1</td>\n",
       "      <td>21863.80</td>\n",
       "      <td>2020-02-27</td>\n",
       "      <td>NAA8</td>\n",
       "      <td>1.930580e+09</td>\n",
       "      <td>731</td>\n",
       "      <td>0</td>\n",
       "      <td>4</td>\n",
       "      <td>15</td>\n",
       "      <td>2020-03-14</td>\n",
       "      <td>1</td>\n",
       "      <td>0-15</td>\n",
       "    </tr>\n",
       "    <tr>\n",
       "      <td>49978</td>\n",
       "      <td>U001</td>\n",
       "      <td>0200705742</td>\n",
       "      <td>DOT co</td>\n",
       "      <td>2020</td>\n",
       "      <td>1.930653e+09</td>\n",
       "      <td>2020-03-15</td>\n",
       "      <td>2020-03-15</td>\n",
       "      <td>2020-03-30</td>\n",
       "      <td>1</td>\n",
       "      <td>5900.00</td>\n",
       "      <td>2020-03-15</td>\n",
       "      <td>NAA8</td>\n",
       "      <td>1.930653e+09</td>\n",
       "      <td>487</td>\n",
       "      <td>0</td>\n",
       "      <td>0</td>\n",
       "      <td>15</td>\n",
       "      <td>2020-03-31</td>\n",
       "      <td>1</td>\n",
       "      <td>0-15</td>\n",
       "    </tr>\n",
       "    <tr>\n",
       "      <td>49980</td>\n",
       "      <td>U001</td>\n",
       "      <td>0200714710</td>\n",
       "      <td>SYSCO</td>\n",
       "      <td>2020</td>\n",
       "      <td>1.930643e+09</td>\n",
       "      <td>2020-03-17</td>\n",
       "      <td>2020-03-12</td>\n",
       "      <td>2020-04-01</td>\n",
       "      <td>1</td>\n",
       "      <td>152.41</td>\n",
       "      <td>2020-03-17</td>\n",
       "      <td>NAA8</td>\n",
       "      <td>1.930643e+09</td>\n",
       "      <td>180</td>\n",
       "      <td>0</td>\n",
       "      <td>2</td>\n",
       "      <td>20</td>\n",
       "      <td>2020-04-01</td>\n",
       "      <td>0</td>\n",
       "      <td>0-15</td>\n",
       "    </tr>\n",
       "    <tr>\n",
       "      <td>49998</td>\n",
       "      <td>CA02</td>\n",
       "      <td>0140104392</td>\n",
       "      <td>FLANAG llc</td>\n",
       "      <td>2020</td>\n",
       "      <td>2.960619e+09</td>\n",
       "      <td>2020-03-06</td>\n",
       "      <td>2020-03-06</td>\n",
       "      <td>2020-03-20</td>\n",
       "      <td>0</td>\n",
       "      <td>14869.54</td>\n",
       "      <td>2020-03-10</td>\n",
       "      <td>CA10</td>\n",
       "      <td>2.960619e+09</td>\n",
       "      <td>1140</td>\n",
       "      <td>1</td>\n",
       "      <td>4</td>\n",
       "      <td>14</td>\n",
       "      <td>2020-03-26</td>\n",
       "      <td>6</td>\n",
       "      <td>0-15</td>\n",
       "    </tr>\n",
       "  </tbody>\n",
       "</table>\n",
       "<p>9703 rows × 20 columns</p>\n",
       "</div>"
      ],
      "text/plain": [
       "      business_code cust_number      name_customer  buisness_year  \\\n",
       "0              U001  0200744019         TARG trust           2020   \n",
       "3              U001  0200794332            COST in           2020   \n",
       "6              CA02  0140104429            COSTCO            2020   \n",
       "7              U001  0200712105              WALG            2020   \n",
       "12             U001  0200230690    DECA associates           2020   \n",
       "...             ...         ...                ...            ...   \n",
       "49969          U001  0200762301  C&S WH associates           2020   \n",
       "49971          U001  0200782001   GORDO associates           2020   \n",
       "49978          U001  0200705742             DOT co           2020   \n",
       "49980          U001  0200714710            SYSCO             2020   \n",
       "49998          CA02  0140104392         FLANAG llc           2020   \n",
       "\n",
       "             doc_id posting_date document_create_date due_in_date  \\\n",
       "0      1.930793e+09   2020-04-17           2020-04-16  2020-05-02   \n",
       "3      1.930594e+09   2020-03-04           2020-03-03  2020-03-19   \n",
       "6      2.960623e+09   2020-03-20           2020-03-20  2020-03-30   \n",
       "7      1.930760e+09   2020-04-07           2020-04-07  2020-04-22   \n",
       "12     1.930586e+09   2020-03-02           2020-03-02  2020-03-24   \n",
       "...             ...          ...                  ...         ...   \n",
       "49969  1.930841e+09   2020-05-01           2020-04-30  2020-05-16   \n",
       "49971  1.930580e+09   2020-02-27           2020-02-27  2020-03-13   \n",
       "49978  1.930653e+09   2020-03-15           2020-03-15  2020-03-30   \n",
       "49980  1.930643e+09   2020-03-17           2020-03-12  2020-04-01   \n",
       "49998  2.960619e+09   2020-03-06           2020-03-06  2020-03-20   \n",
       "\n",
       "       invoice_currency  total_open_amount baseline_create_date  \\\n",
       "0                     1           34836.09           2020-04-17   \n",
       "3                     1            8793.09           2020-03-04   \n",
       "6                     0           32301.31           2020-03-20   \n",
       "7                     1           74881.86           2020-04-07   \n",
       "12                    1             238.44           2020-03-01   \n",
       "...                 ...                ...                  ...   \n",
       "49969                 1            4886.81           2020-05-01   \n",
       "49971                 1           21863.80           2020-02-27   \n",
       "49978                 1            5900.00           2020-03-15   \n",
       "49980                 1             152.41           2020-03-17   \n",
       "49998                 0           14869.54           2020-03-10   \n",
       "\n",
       "      cust_payment_terms    invoice_id  customer_id  payment_terms_id  \\\n",
       "0                   NAA8  1.930793e+09            0                 0   \n",
       "3                   NAAX  1.930594e+09            3                 2   \n",
       "6                   CA10  2.960623e+09            6                 1   \n",
       "7                   NAA8  1.930760e+09            7                 0   \n",
       "12                  NAM4  1.930586e+09           12                 6   \n",
       "...                  ...           ...          ...               ...   \n",
       "49969               NAC6  1.930841e+09          398                 7   \n",
       "49971               NAA8  1.930580e+09          731                 0   \n",
       "49978               NAA8  1.930653e+09          487                 0   \n",
       "49980               NAA8  1.930643e+09          180                 0   \n",
       "49998               CA10  2.960619e+09         1140                 1   \n",
       "\n",
       "       due_day  time_period predicted_clear_date  target aging_bucket  \n",
       "0            5           16           2020-05-04       2         0-15  \n",
       "3            3           16           2020-03-19       0         0-15  \n",
       "6            0           10           2020-04-07       8         0-15  \n",
       "7            2           15           2020-04-23       1         0-15  \n",
       "12           1           22           2020-03-16      -8  Less than 0  \n",
       "...        ...          ...                  ...     ...          ...  \n",
       "49969        5           16           2020-05-16       0         0-15  \n",
       "49971        4           15           2020-03-14       1         0-15  \n",
       "49978        0           15           2020-03-31       1         0-15  \n",
       "49980        2           20           2020-04-01       0         0-15  \n",
       "49998        4           14           2020-03-26       6         0-15  \n",
       "\n",
       "[9703 rows x 20 columns]"
      ]
     },
     "execution_count": 92,
     "metadata": {},
     "output_type": "execute_result"
    }
   ],
   "source": [
    "test_df"
   ]
  },
  {
   "cell_type": "markdown",
   "metadata": {},
   "source": [
    "Customer name, customer id, invoice no., invoice amt., due date, pred_date, aging bucket, notes"
   ]
  },
  {
   "cell_type": "code",
   "execution_count": 93,
   "metadata": {},
   "outputs": [],
   "source": [
    "final_df = test_df[['name_customer', 'cust_number', 'invoice_id', 'total_open_amount', 'due_in_date', 'predicted_clear_date', 'aging_bucket']]"
   ]
  },
  {
   "cell_type": "code",
   "execution_count": 94,
   "metadata": {},
   "outputs": [
    {
     "data": {
      "text/html": [
       "<div>\n",
       "<style scoped>\n",
       "    .dataframe tbody tr th:only-of-type {\n",
       "        vertical-align: middle;\n",
       "    }\n",
       "\n",
       "    .dataframe tbody tr th {\n",
       "        vertical-align: top;\n",
       "    }\n",
       "\n",
       "    .dataframe thead th {\n",
       "        text-align: right;\n",
       "    }\n",
       "</style>\n",
       "<table border=\"1\" class=\"dataframe\">\n",
       "  <thead>\n",
       "    <tr style=\"text-align: right;\">\n",
       "      <th></th>\n",
       "      <th>name_customer</th>\n",
       "      <th>cust_number</th>\n",
       "      <th>invoice_id</th>\n",
       "      <th>total_open_amount</th>\n",
       "      <th>due_in_date</th>\n",
       "      <th>predicted_clear_date</th>\n",
       "      <th>aging_bucket</th>\n",
       "    </tr>\n",
       "  </thead>\n",
       "  <tbody>\n",
       "    <tr>\n",
       "      <td>0</td>\n",
       "      <td>TARG trust</td>\n",
       "      <td>0200744019</td>\n",
       "      <td>1.930793e+09</td>\n",
       "      <td>34836.09</td>\n",
       "      <td>2020-05-02</td>\n",
       "      <td>2020-05-04</td>\n",
       "      <td>0-15</td>\n",
       "    </tr>\n",
       "    <tr>\n",
       "      <td>3</td>\n",
       "      <td>COST in</td>\n",
       "      <td>0200794332</td>\n",
       "      <td>1.930594e+09</td>\n",
       "      <td>8793.09</td>\n",
       "      <td>2020-03-19</td>\n",
       "      <td>2020-03-19</td>\n",
       "      <td>0-15</td>\n",
       "    </tr>\n",
       "    <tr>\n",
       "      <td>6</td>\n",
       "      <td>COSTCO</td>\n",
       "      <td>0140104429</td>\n",
       "      <td>2.960623e+09</td>\n",
       "      <td>32301.31</td>\n",
       "      <td>2020-03-30</td>\n",
       "      <td>2020-04-07</td>\n",
       "      <td>0-15</td>\n",
       "    </tr>\n",
       "    <tr>\n",
       "      <td>7</td>\n",
       "      <td>WALG</td>\n",
       "      <td>0200712105</td>\n",
       "      <td>1.930760e+09</td>\n",
       "      <td>74881.86</td>\n",
       "      <td>2020-04-22</td>\n",
       "      <td>2020-04-23</td>\n",
       "      <td>0-15</td>\n",
       "    </tr>\n",
       "    <tr>\n",
       "      <td>12</td>\n",
       "      <td>DECA associates</td>\n",
       "      <td>0200230690</td>\n",
       "      <td>1.930586e+09</td>\n",
       "      <td>238.44</td>\n",
       "      <td>2020-03-24</td>\n",
       "      <td>2020-03-16</td>\n",
       "      <td>Less than 0</td>\n",
       "    </tr>\n",
       "    <tr>\n",
       "      <td>...</td>\n",
       "      <td>...</td>\n",
       "      <td>...</td>\n",
       "      <td>...</td>\n",
       "      <td>...</td>\n",
       "      <td>...</td>\n",
       "      <td>...</td>\n",
       "      <td>...</td>\n",
       "    </tr>\n",
       "    <tr>\n",
       "      <td>49969</td>\n",
       "      <td>C&amp;S WH associates</td>\n",
       "      <td>0200762301</td>\n",
       "      <td>1.930841e+09</td>\n",
       "      <td>4886.81</td>\n",
       "      <td>2020-05-16</td>\n",
       "      <td>2020-05-16</td>\n",
       "      <td>0-15</td>\n",
       "    </tr>\n",
       "    <tr>\n",
       "      <td>49971</td>\n",
       "      <td>GORDO associates</td>\n",
       "      <td>0200782001</td>\n",
       "      <td>1.930580e+09</td>\n",
       "      <td>21863.80</td>\n",
       "      <td>2020-03-13</td>\n",
       "      <td>2020-03-14</td>\n",
       "      <td>0-15</td>\n",
       "    </tr>\n",
       "    <tr>\n",
       "      <td>49978</td>\n",
       "      <td>DOT co</td>\n",
       "      <td>0200705742</td>\n",
       "      <td>1.930653e+09</td>\n",
       "      <td>5900.00</td>\n",
       "      <td>2020-03-30</td>\n",
       "      <td>2020-03-31</td>\n",
       "      <td>0-15</td>\n",
       "    </tr>\n",
       "    <tr>\n",
       "      <td>49980</td>\n",
       "      <td>SYSCO</td>\n",
       "      <td>0200714710</td>\n",
       "      <td>1.930643e+09</td>\n",
       "      <td>152.41</td>\n",
       "      <td>2020-04-01</td>\n",
       "      <td>2020-04-01</td>\n",
       "      <td>0-15</td>\n",
       "    </tr>\n",
       "    <tr>\n",
       "      <td>49998</td>\n",
       "      <td>FLANAG llc</td>\n",
       "      <td>0140104392</td>\n",
       "      <td>2.960619e+09</td>\n",
       "      <td>14869.54</td>\n",
       "      <td>2020-03-20</td>\n",
       "      <td>2020-03-26</td>\n",
       "      <td>0-15</td>\n",
       "    </tr>\n",
       "  </tbody>\n",
       "</table>\n",
       "<p>9703 rows × 7 columns</p>\n",
       "</div>"
      ],
      "text/plain": [
       "           name_customer cust_number    invoice_id  total_open_amount  \\\n",
       "0             TARG trust  0200744019  1.930793e+09           34836.09   \n",
       "3                COST in  0200794332  1.930594e+09            8793.09   \n",
       "6                COSTCO   0140104429  2.960623e+09           32301.31   \n",
       "7                  WALG   0200712105  1.930760e+09           74881.86   \n",
       "12       DECA associates  0200230690  1.930586e+09             238.44   \n",
       "...                  ...         ...           ...                ...   \n",
       "49969  C&S WH associates  0200762301  1.930841e+09            4886.81   \n",
       "49971   GORDO associates  0200782001  1.930580e+09           21863.80   \n",
       "49978             DOT co  0200705742  1.930653e+09            5900.00   \n",
       "49980            SYSCO    0200714710  1.930643e+09             152.41   \n",
       "49998         FLANAG llc  0140104392  2.960619e+09           14869.54   \n",
       "\n",
       "      due_in_date predicted_clear_date aging_bucket  \n",
       "0      2020-05-02           2020-05-04         0-15  \n",
       "3      2020-03-19           2020-03-19         0-15  \n",
       "6      2020-03-30           2020-04-07         0-15  \n",
       "7      2020-04-22           2020-04-23         0-15  \n",
       "12     2020-03-24           2020-03-16  Less than 0  \n",
       "...           ...                  ...          ...  \n",
       "49969  2020-05-16           2020-05-16         0-15  \n",
       "49971  2020-03-13           2020-03-14         0-15  \n",
       "49978  2020-03-30           2020-03-31         0-15  \n",
       "49980  2020-04-01           2020-04-01         0-15  \n",
       "49998  2020-03-20           2020-03-26         0-15  \n",
       "\n",
       "[9703 rows x 7 columns]"
      ]
     },
     "execution_count": 94,
     "metadata": {},
     "output_type": "execute_result"
    }
   ],
   "source": [
    "final_df"
   ]
  },
  {
   "cell_type": "code",
   "execution_count": 95,
   "metadata": {},
   "outputs": [
    {
     "name": "stdout",
     "output_type": "stream",
     "text": [
      "<class 'pandas.core.frame.DataFrame'>\n",
      "Int64Index: 9703 entries, 0 to 49998\n",
      "Data columns (total 7 columns):\n",
      "name_customer           9703 non-null object\n",
      "cust_number             9703 non-null object\n",
      "invoice_id              9703 non-null float64\n",
      "total_open_amount       9703 non-null float64\n",
      "due_in_date             9703 non-null datetime64[ns]\n",
      "predicted_clear_date    9703 non-null datetime64[ns]\n",
      "aging_bucket            9703 non-null category\n",
      "dtypes: category(1), datetime64[ns](2), float64(2), object(2)\n",
      "memory usage: 540.3+ KB\n"
     ]
    }
   ],
   "source": [
    "final_df.info()"
   ]
  },
  {
   "cell_type": "code",
   "execution_count": 96,
   "metadata": {},
   "outputs": [],
   "source": [
    "final_df['aging_bucket'] = final_df['aging_bucket'].astype(str)"
   ]
  },
  {
   "cell_type": "code",
   "execution_count": 101,
   "metadata": {},
   "outputs": [],
   "source": [
    "final_df.rename(columns={'aging_bucket':'notes'}, inplace=True)"
   ]
  },
  {
   "cell_type": "code",
   "execution_count": 104,
   "metadata": {},
   "outputs": [],
   "source": [
    "#final_df.to_csv('final_3161.csv', index=False)"
   ]
  },
  {
   "cell_type": "code",
   "execution_count": null,
   "metadata": {},
   "outputs": [],
   "source": []
  }
 ],
 "metadata": {
  "kernelspec": {
   "display_name": "Python 3",
   "language": "python",
   "name": "python3"
  },
  "language_info": {
   "codemirror_mode": {
    "name": "ipython",
    "version": 3
   },
   "file_extension": ".py",
   "mimetype": "text/x-python",
   "name": "python",
   "nbconvert_exporter": "python",
   "pygments_lexer": "ipython3",
   "version": "3.7.4"
  }
 },
 "nbformat": 4,
 "nbformat_minor": 2
}
